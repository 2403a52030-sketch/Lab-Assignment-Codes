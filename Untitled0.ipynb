{
  "nbformat": 4,
  "nbformat_minor": 0,
  "metadata": {
    "colab": {
      "provenance": [],
      "authorship_tag": "ABX9TyN5gKADPjXiwxrggQRZB7LN",
      "include_colab_link": true
    },
    "kernelspec": {
      "name": "python3",
      "display_name": "Python 3"
    },
    "language_info": {
      "name": "python"
    }
  },
  "cells": [
    {
      "cell_type": "markdown",
      "metadata": {
        "id": "view-in-github",
        "colab_type": "text"
      },
      "source": [
        "<a href=\"https://colab.research.google.com/github/2403a52030-sketch/Lab-Assignment-Codes/blob/main/Untitled0.ipynb\" target=\"_parent\"><img src=\"https://colab.research.google.com/assets/colab-badge.svg\" alt=\"Open In Colab\"/></a>"
      ]
    },
    {
      "cell_type": "code",
      "metadata": {
        "colab": {
          "base_uri": "https://localhost:8080/"
        },
        "id": "79fe8c84",
        "outputId": "0c7cad51-57a9-4f9d-f8fe-37b10dd0bbee"
      },
      "source": [
        "def filter_negative_numbers(input_list):\n",
        "  \"\"\"\n",
        "  Filters out all negative numbers from a given list.\n",
        "\n",
        "  Args:\n",
        "    input_list: A list of numbers.\n",
        "\n",
        "  Returns:\n",
        "    A new list containing only the non-negative numbers from the input list.\n",
        "  \"\"\"\n",
        "  return [number for number in input_list if number >= 0]\n",
        " #example llist\n",
        "my_list = [1, -2, 3, -4, 5, -6, 7, 8, -9, 10]\n",
        "filtered_list = filter_negative_numbers(my_list)\n",
        "print(filtered_list)"
      ],
      "execution_count": null,
      "outputs": [
        {
          "output_type": "stream",
          "name": "stdout",
          "text": [
            "[1, 3, 5, 7, 8, 10]\n"
          ]
        }
      ]
    },
    {
      "cell_type": "code",
      "metadata": {
        "colab": {
          "base_uri": "https://localhost:8080/"
        },
        "id": "3c5423a0",
        "outputId": "fd7a0461-b887-46fd-c32e-9045c63a1b3c"
      },
      "source": [
        "from collections import Counter\n",
        "import re\n",
        "\n",
        "def count_word_frequency(filename):\n",
        "  \"\"\"\n",
        "  Reads a text file and counts the frequency of each word.\n",
        "\n",
        "  Args:\n",
        "    filename: The path to the text file.\n",
        "\n",
        "  Returns:\n",
        "    A dictionary where keys are words and values are their frequencies.\n",
        "  \"\"\"\n",
        "  word_counts = Counter()\n",
        "  try:\n",
        "    with open(filename, 'r', encoding='utf-8') as f:\n",
        "      for line in f:\n",
        "        # Use regular expression to find words (alphanumeric characters)\n",
        "        words = re.findall(r'\\b\\w+\\b', line.lower())\n",
        "        word_counts.update(words)\n",
        "  except FileNotFoundError:\n",
        "    print(f\"Error: File '{filename}' not found.\")\n",
        "    return None\n",
        "  return word_counts\n",
        "\n",
        "# Example usage:\n",
        "# Create a dummy text file for testing\n",
        "with open('sample.txt', 'w') as f:\n",
        "    f.write(\"This is a sample text file.\\n\")\n",
        "    f.write(\"This file is for testing word frequency counting.\\n\")\n",
        "\n",
        "word_frequencies = count_word_frequency('sample.txt')\n",
        "if word_frequencies:\n",
        "  # Print the word frequencies\n",
        "  for word, count in word_frequencies.most_common():\n",
        "      print(f\"{word}: {count}\")"
      ],
      "execution_count": null,
      "outputs": [
        {
          "output_type": "stream",
          "name": "stdout",
          "text": [
            "this: 2\n",
            "is: 2\n",
            "file: 2\n",
            "a: 1\n",
            "sample: 1\n",
            "text: 1\n",
            "for: 1\n",
            "testing: 1\n",
            "word: 1\n",
            "frequency: 1\n",
            "counting: 1\n"
          ]
        }
      ]
    },
    {
      "cell_type": "markdown",
      "source": [
        "task 03:●\tUse Cursor AI to generate a Python class called Book with attributes title, author, and a method summary() that prints the details."
      ],
      "metadata": {
        "id": "_hSdrhrjjRak"
      }
    },
    {
      "cell_type": "code",
      "source": [
        "class Book:\n",
        "    \"\"\"\n",
        "    Represents a book with a title and author.\n",
        "    \"\"\"\n",
        "    def __init__(self, title, author):\n",
        "        \"\"\"\n",
        "        Initializes a new Book object.\n",
        "\n",
        "        Args:\n",
        "            title: The title of the book.\n",
        "            author: The author of the book.\n",
        "        \"\"\"\n",
        "        self.title = title\n",
        "        self.author = author\n",
        "\n",
        "    def summary(self):\n",
        "        \"\"\"\n",
        "        Prints the title and author of the book.\n",
        "        \"\"\"\n",
        "        print(f\"Title: {self.title}\")\n",
        "        print(f\"Author: {self.author}\")\n",
        "\n",
        "# Example usage:\n",
        "my_book = Book(\"The Hitchhiker's Guide to the Galaxy\", \"Douglas Adams\")\n",
        "my_book.summary()"
      ],
      "metadata": {
        "colab": {
          "base_uri": "https://localhost:8080/"
        },
        "id": "ugr78VbMjZpm",
        "outputId": "9b1cd59c-7d67-4a7f-9b31-e67cee945cb8"
      },
      "execution_count": null,
      "outputs": [
        {
          "output_type": "stream",
          "name": "stdout",
          "text": [
            "Title: The Hitchhiker's Guide to the Galaxy\n",
            "Author: Douglas Adams\n"
          ]
        }
      ]
    },
    {
      "cell_type": "code",
      "metadata": {
        "colab": {
          "base_uri": "https://localhost:8080/"
        },
        "id": "dc6c3654",
        "outputId": "2d6c323e-f55e-4a5a-82b3-26fa08061c72"
      },
      "source": [
        "def is_armstrong_number(number):\n",
        "  \"\"\"\n",
        "  Checks if a number is an Armstrong number.\n",
        "\n",
        "  An Armstrong number is a number that is the sum of its own digits\n",
        "  each raised to the power of the number of digits in the number.\n",
        "\n",
        "  Args:\n",
        "    number: The number to check.\n",
        "\n",
        "  Returns:\n",
        "    True if the number is an Armstrong number, False otherwise.\n",
        "  \"\"\"\n",
        "  # Convert the number to a string to get the number of digits\n",
        "  num_str = str(number)\n",
        "  num_digits = len(num_str)\n",
        "  armstrong_sum = 0\n",
        "  for digit in num_str:\n",
        "    armstrong_sum += int(digit) ** num_digits\n",
        "  return armstrong_sum == number\n",
        "  # Test cases\n",
        "print(f\"Is 153 an Armstrong number? {is_armstrong_number(153)}\")\n",
        "print(f\"Is 9 an Armstrong number? {is_armstrong_number(9)}\")\n",
        "print(f\"Is 10 an Armstrong number? {is_armstrong_number(10)}\")\n",
        "print(f\"Is 370 an Armstrong number? {is_armstrong_number(370)}\")\n",
        "print(f\"Is 371 an Armstrong number? {is_armstrong_number(371)}\")\n",
        "print(f\"Is 123 an Armstrong number? {is_armstrong_number(123)}\")"
      ],
      "execution_count": null,
      "outputs": [
        {
          "output_type": "stream",
          "name": "stdout",
          "text": [
            "Is 153 an Armstrong number? True\n",
            "Is 9 an Armstrong number? True\n",
            "Is 10 an Armstrong number? False\n",
            "Is 370 an Armstrong number? True\n",
            "Is 371 an Armstrong number? True\n",
            "Is 123 an Armstrong number? False\n"
          ]
        }
      ]
    },
    {
      "cell_type": "code",
      "metadata": {
        "colab": {
          "base_uri": "https://localhost:8080/"
        },
        "id": "88d37aeb",
        "outputId": "d53cd30c-b01e-4e61-8e41-df7c4ca6bc29"
      },
      "source": [
        "def sort_list_of_dicts(list_of_dicts, key):\n",
        "  \"\"\"\n",
        "  Sorts a list of dictionaries by the value of a specified key.\n",
        "\n",
        "  Args:\n",
        "    list_of_dicts: A list of dictionaries.\n",
        "    key: The key to sort by.\n",
        "\n",
        "  Returns:\n",
        "    A new list of dictionaries sorted by the specified key.\n",
        "  \"\"\"\n",
        "  return sorted(list_of_dicts, key=lambda x: x[key])\n",
        "\n",
        "# Example usage:\n",
        "data = [\n",
        "    {'name': 'Alice', 'age': 30},\n",
        "    {'name': 'Bob', 'age': 25},\n",
        "    {'name': 'Charlie', 'age': 35}\n",
        "]\n",
        "\n",
        "sorted_data = sort_list_of_dicts(data, 'age')\n",
        "print(sorted_data)"
      ],
      "execution_count": null,
      "outputs": [
        {
          "output_type": "stream",
          "name": "stdout",
          "text": [
            "[{'name': 'Bob', 'age': 25}, {'name': 'Alice', 'age': 30}, {'name': 'Charlie', 'age': 35}]\n"
          ]
        }
      ]
    }
  ]
}