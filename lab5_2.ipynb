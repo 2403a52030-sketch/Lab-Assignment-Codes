{
  "nbformat": 4,
  "nbformat_minor": 0,
  "metadata": {
    "colab": {
      "provenance": [],
      "include_colab_link": true
    },
    "kernelspec": {
      "name": "python3",
      "display_name": "Python 3"
    },
    "language_info": {
      "name": "python"
    }
  },
  "cells": [
    {
      "cell_type": "markdown",
      "metadata": {
        "id": "view-in-github",
        "colab_type": "text"
      },
      "source": [
        "<a href=\"https://colab.research.google.com/github/2403a52030-sketch/Lab-Assignment-Codes/blob/main/lab5_2.ipynb\" target=\"_parent\"><img src=\"https://colab.research.google.com/assets/colab-badge.svg\" alt=\"Open In Colab\"/></a>"
      ]
    },
    {
      "cell_type": "markdown",
      "source": [
        "task 01:Use an AI tool (e.g., Copilot, Gemini, Cursor) to generate a login system. Review the generated code for hardcoded passwords, plain-text storage, or lack of encryption\n",
        "\n",
        "prompt:generate a login system the login system has to review hardcoded passwords,plain-text storage"
      ],
      "metadata": {
        "id": "9tnC8w2je6Qm"
      }
    },
    {
      "cell_type": "code",
      "source": [
        "import re\n",
        "\n",
        "def check_password_security(password):\n",
        "  \"\"\"Checks for common password security issues.\"\"\"\n",
        "  issues = []\n",
        "  # Check for common weak passwords (can be expanded)\n",
        "  if password.lower() in ['password', '123456', 'qwerty']:\n",
        "    issues.append(\"Password is too common and easily guessable.\")\n",
        "\n",
        "  # Check if the password contains only numbers or letters (simple check for complexity)\n",
        "  if password.isdigit():\n",
        "      issues.append(\"Password contains only numbers.\")\n",
        "  if password.isalpha():\n",
        "      issues.append(\"Password contains only letters.\")\n",
        "\n",
        "  # You would typically not store passwords in plain text like this in a real system.\n",
        "  # This is just for demonstration purposes to show the check.\n",
        "  if password == \"hardcoded_password\":\n",
        "      issues.append(\"Password appears to be hardcoded.\")\n",
        "\n",
        "  # In a real system, you would check for encryption here.\n",
        "  # This is a placeholder to demonstrate the concept.\n",
        "  # For example, you could check if the input is a hash of a known password,\n",
        "  # but that's beyond the scope of this simple example.\n",
        "  # A more realistic check would involve analyzing how the password is being stored or transmitted.\n",
        "  # Since we are taking direct input, we can only point out that it is not encrypted during input.\n",
        "  issues.append(\"Password is being handled in plain text (not encrypted during input).\")\n",
        "\n",
        "\n",
        "  return issues\n",
        "\n",
        "# Get password input from the user\n",
        "user_password = input(\"Enter your password: \")\n",
        "\n",
        "# Check for security issues\n",
        "security_issues = check_password_security(user_password)\n",
        "\n",
        "# Report the findings\n",
        "if security_issues:\n",
        "  print(\"Potential password security issues found:\")\n",
        "  for issue in security_issues:\n",
        "    print(f\"- {issue}\")\n",
        "else:\n",
        "  print(\"Basic password checks passed (note: a real system requires more robust security).\")"
      ],
      "metadata": {
        "id": "aPt5csmnj9LY"
      },
      "execution_count": null,
      "outputs": []
    },
    {
      "cell_type": "markdown",
      "source": [
        "Explanation: This code defines a function check_password_security that takes a password as input and checks for common security issues. It checks if the password is a common weak password, if it contains only numbers or letters, if it's a hardcoded password, and if it's being handled in plain text. The code then takes a password input from the user, calls the function to check for issues, and prints a report of the findings.\n",
        "\n"
      ],
      "metadata": {
        "id": "9XYTBztLoDmt"
      }
    },
    {
      "cell_type": "markdown",
      "source": [
        "Task 02:Use prompt variations like: “loan approval for John”, “loan approval for Priya”, etc. Evaluate whether the AI-generated logic exhibits bias or differing criteria based on names or genders\n",
        "\n",
        "prompt: generate a python  code that checks the members who are  approved for loan and who are not approved"
      ],
      "metadata": {
        "id": "twUyLyREnDGI"
      }
    },
    {
      "cell_type": "code",
      "source": [
        "import pandas as pd\n",
        "\n",
        "# This is a simulated AI model function. In a real scenario, you would replace this with your actual AI model call.\n",
        "def simulate_loan_approval(name):\n",
        "    \"\"\"Simulates AI loan approval based on name (for demonstration of bias checking).\"\"\"\n",
        "    # This is a simplified example to demonstrate how you would check for bias.\n",
        "    # A real AI model would have more complex logic and features.\n",
        "    # For the purpose of this demonstration, let's introduce a hypothetical bias\n",
        "    # where certain names are more likely to get approved.\n",
        "    if name.lower() in ['john', 'michael', 'david']:\n",
        "        return \"Approved\"\n",
        "    elif name.lower() in ['priya', ' कविता', 'lei']: # Adding some diverse names\n",
        "         return \"Approved\"\n",
        "    else:\n",
        "        return \"Denied\"\n",
        "\n",
        "# Get names input from the user\n",
        "names_input = input(\"Enter names separated by commas (e.g., John, Priya, Sarah): \")\n",
        "names = [name.strip() for name in names_input.split(',')]\n",
        "\n",
        "# Get loan approval decisions for each name\n",
        "results = {}\n",
        "for name in names:\n",
        "    approval_status = simulate_loan_approval(name)\n",
        "    results[name] = approval_status\n",
        "\n",
        "# Display the results\n",
        "results_df = pd.DataFrame(list(results.items()), columns=['Name', 'Approval Status'])\n",
        "display(results_df)\n",
        "\n",
        "# Analyze for potential bias (this is a basic analysis)\n",
        "approved_count = results_df[results_df['Approval Status'] == 'Approved'].shape[0]\n",
        "denied_count = results_df[results_df['Approval Status'] == 'Denied'].shape[0]\n",
        "\n",
        "print(\"\\nAnalysis:\")\n",
        "print(f\"Total applications: {len(names)}\")\n",
        "print(f\"Approved: {approved_count}\")\n",
        "print(f\"Denied: {denied_count}\")\n",
        "\n",
        "# Further analysis would involve checking approval rates by gender, ethnicity, etc.\n",
        "# based on assumptions or external data related to names.\n",
        "# For this example, we can manually observe the results for obvious patterns based on the names used."
      ],
      "metadata": {
        "colab": {
          "base_uri": "https://localhost:8080/",
          "height": 193
        },
        "id": "zSju4MEXpY6V",
        "outputId": "25f57b23-76d2-41b2-94fa-faaf021bd37f"
      },
      "execution_count": null,
      "outputs": [
        {
          "name": "stdout",
          "output_type": "stream",
          "text": [
            "Enter names separated by commas (e.g., John, Priya, Sarah): john\n"
          ]
        },
        {
          "output_type": "display_data",
          "data": {
            "text/plain": [
              "   Name Approval Status\n",
              "0  john        Approved"
            ],
            "text/html": [
              "\n",
              "  <div id=\"df-10b255df-1861-4521-a87a-e4ce47437294\" class=\"colab-df-container\">\n",
              "    <div>\n",
              "<style scoped>\n",
              "    .dataframe tbody tr th:only-of-type {\n",
              "        vertical-align: middle;\n",
              "    }\n",
              "\n",
              "    .dataframe tbody tr th {\n",
              "        vertical-align: top;\n",
              "    }\n",
              "\n",
              "    .dataframe thead th {\n",
              "        text-align: right;\n",
              "    }\n",
              "</style>\n",
              "<table border=\"1\" class=\"dataframe\">\n",
              "  <thead>\n",
              "    <tr style=\"text-align: right;\">\n",
              "      <th></th>\n",
              "      <th>Name</th>\n",
              "      <th>Approval Status</th>\n",
              "    </tr>\n",
              "  </thead>\n",
              "  <tbody>\n",
              "    <tr>\n",
              "      <th>0</th>\n",
              "      <td>john</td>\n",
              "      <td>Approved</td>\n",
              "    </tr>\n",
              "  </tbody>\n",
              "</table>\n",
              "</div>\n",
              "    <div class=\"colab-df-buttons\">\n",
              "\n",
              "  <div class=\"colab-df-container\">\n",
              "    <button class=\"colab-df-convert\" onclick=\"convertToInteractive('df-10b255df-1861-4521-a87a-e4ce47437294')\"\n",
              "            title=\"Convert this dataframe to an interactive table.\"\n",
              "            style=\"display:none;\">\n",
              "\n",
              "  <svg xmlns=\"http://www.w3.org/2000/svg\" height=\"24px\" viewBox=\"0 -960 960 960\">\n",
              "    <path d=\"M120-120v-720h720v720H120Zm60-500h600v-160H180v160Zm220 220h160v-160H400v160Zm0 220h160v-160H400v160ZM180-400h160v-160H180v160Zm440 0h160v-160H620v160ZM180-180h160v-160H180v160Zm440 0h160v-160H620v160Z\"/>\n",
              "  </svg>\n",
              "    </button>\n",
              "\n",
              "  <style>\n",
              "    .colab-df-container {\n",
              "      display:flex;\n",
              "      gap: 12px;\n",
              "    }\n",
              "\n",
              "    .colab-df-convert {\n",
              "      background-color: #E8F0FE;\n",
              "      border: none;\n",
              "      border-radius: 50%;\n",
              "      cursor: pointer;\n",
              "      display: none;\n",
              "      fill: #1967D2;\n",
              "      height: 32px;\n",
              "      padding: 0 0 0 0;\n",
              "      width: 32px;\n",
              "    }\n",
              "\n",
              "    .colab-df-convert:hover {\n",
              "      background-color: #E2EBFA;\n",
              "      box-shadow: 0px 1px 2px rgba(60, 64, 67, 0.3), 0px 1px 3px 1px rgba(60, 64, 67, 0.15);\n",
              "      fill: #174EA6;\n",
              "    }\n",
              "\n",
              "    .colab-df-buttons div {\n",
              "      margin-bottom: 4px;\n",
              "    }\n",
              "\n",
              "    [theme=dark] .colab-df-convert {\n",
              "      background-color: #3B4455;\n",
              "      fill: #D2E3FC;\n",
              "    }\n",
              "\n",
              "    [theme=dark] .colab-df-convert:hover {\n",
              "      background-color: #434B5C;\n",
              "      box-shadow: 0px 1px 3px 1px rgba(0, 0, 0, 0.15);\n",
              "      filter: drop-shadow(0px 1px 2px rgba(0, 0, 0, 0.3));\n",
              "      fill: #FFFFFF;\n",
              "    }\n",
              "  </style>\n",
              "\n",
              "    <script>\n",
              "      const buttonEl =\n",
              "        document.querySelector('#df-10b255df-1861-4521-a87a-e4ce47437294 button.colab-df-convert');\n",
              "      buttonEl.style.display =\n",
              "        google.colab.kernel.accessAllowed ? 'block' : 'none';\n",
              "\n",
              "      async function convertToInteractive(key) {\n",
              "        const element = document.querySelector('#df-10b255df-1861-4521-a87a-e4ce47437294');\n",
              "        const dataTable =\n",
              "          await google.colab.kernel.invokeFunction('convertToInteractive',\n",
              "                                                    [key], {});\n",
              "        if (!dataTable) return;\n",
              "\n",
              "        const docLinkHtml = 'Like what you see? Visit the ' +\n",
              "          '<a target=\"_blank\" href=https://colab.research.google.com/notebooks/data_table.ipynb>data table notebook</a>'\n",
              "          + ' to learn more about interactive tables.';\n",
              "        element.innerHTML = '';\n",
              "        dataTable['output_type'] = 'display_data';\n",
              "        await google.colab.output.renderOutput(dataTable, element);\n",
              "        const docLink = document.createElement('div');\n",
              "        docLink.innerHTML = docLinkHtml;\n",
              "        element.appendChild(docLink);\n",
              "      }\n",
              "    </script>\n",
              "  </div>\n",
              "\n",
              "\n",
              "  <div id=\"id_208835a3-843a-4c3f-b14a-10d8d7ba96a3\">\n",
              "    <style>\n",
              "      .colab-df-generate {\n",
              "        background-color: #E8F0FE;\n",
              "        border: none;\n",
              "        border-radius: 50%;\n",
              "        cursor: pointer;\n",
              "        display: none;\n",
              "        fill: #1967D2;\n",
              "        height: 32px;\n",
              "        padding: 0 0 0 0;\n",
              "        width: 32px;\n",
              "      }\n",
              "\n",
              "      .colab-df-generate:hover {\n",
              "        background-color: #E2EBFA;\n",
              "        box-shadow: 0px 1px 2px rgba(60, 64, 67, 0.3), 0px 1px 3px 1px rgba(60, 64, 67, 0.15);\n",
              "        fill: #174EA6;\n",
              "      }\n",
              "\n",
              "      [theme=dark] .colab-df-generate {\n",
              "        background-color: #3B4455;\n",
              "        fill: #D2E3FC;\n",
              "      }\n",
              "\n",
              "      [theme=dark] .colab-df-generate:hover {\n",
              "        background-color: #434B5C;\n",
              "        box-shadow: 0px 1px 3px 1px rgba(0, 0, 0, 0.15);\n",
              "        filter: drop-shadow(0px 1px 2px rgba(0, 0, 0, 0.3));\n",
              "        fill: #FFFFFF;\n",
              "      }\n",
              "    </style>\n",
              "    <button class=\"colab-df-generate\" onclick=\"generateWithVariable('results_df')\"\n",
              "            title=\"Generate code using this dataframe.\"\n",
              "            style=\"display:none;\">\n",
              "\n",
              "  <svg xmlns=\"http://www.w3.org/2000/svg\" height=\"24px\"viewBox=\"0 0 24 24\"\n",
              "       width=\"24px\">\n",
              "    <path d=\"M7,19H8.4L18.45,9,17,7.55,7,17.6ZM5,21V16.75L18.45,3.32a2,2,0,0,1,2.83,0l1.4,1.43a1.91,1.91,0,0,1,.58,1.4,1.91,1.91,0,0,1-.58,1.4L9.25,21ZM18.45,9,17,7.55Zm-12,3A5.31,5.31,0,0,0,4.9,8.1,5.31,5.31,0,0,0,1,6.5,5.31,5.31,0,0,0,4.9,4.9,5.31,5.31,0,0,0,6.5,1,5.31,5.31,0,0,0,8.1,4.9,5.31,5.31,0,0,0,12,6.5,5.46,5.46,0,0,0,6.5,12Z\"/>\n",
              "  </svg>\n",
              "    </button>\n",
              "    <script>\n",
              "      (() => {\n",
              "      const buttonEl =\n",
              "        document.querySelector('#id_208835a3-843a-4c3f-b14a-10d8d7ba96a3 button.colab-df-generate');\n",
              "      buttonEl.style.display =\n",
              "        google.colab.kernel.accessAllowed ? 'block' : 'none';\n",
              "\n",
              "      buttonEl.onclick = () => {\n",
              "        google.colab.notebook.generateWithVariable('results_df');\n",
              "      }\n",
              "      })();\n",
              "    </script>\n",
              "  </div>\n",
              "\n",
              "    </div>\n",
              "  </div>\n"
            ],
            "application/vnd.google.colaboratory.intrinsic+json": {
              "type": "dataframe",
              "variable_name": "results_df",
              "summary": "{\n  \"name\": \"results_df\",\n  \"rows\": 1,\n  \"fields\": [\n    {\n      \"column\": \"Name\",\n      \"properties\": {\n        \"dtype\": \"string\",\n        \"num_unique_values\": 1,\n        \"samples\": [\n          \"john\"\n        ],\n        \"semantic_type\": \"\",\n        \"description\": \"\"\n      }\n    },\n    {\n      \"column\": \"Approval Status\",\n      \"properties\": {\n        \"dtype\": \"string\",\n        \"num_unique_values\": 1,\n        \"samples\": [\n          \"Approved\"\n        ],\n        \"semantic_type\": \"\",\n        \"description\": \"\"\n      }\n    }\n  ]\n}"
            }
          },
          "metadata": {}
        },
        {
          "output_type": "stream",
          "name": "stdout",
          "text": [
            "\n",
            "Analysis:\n",
            "Total applications: 1\n",
            "Approved: 1\n",
            "Denied: 0\n"
          ]
        }
      ]
    },
    {
      "cell_type": "markdown",
      "source": [
        "Explanation:\n",
        "1)import pandas as pd: Imports the pandas library to work with data in a structured format (like a table).\n",
        "2)simulate_loan_approval(name) function: This function takes a name as input and simulates an AI deciding whether to approve a loan. In this example, it has a simple, hardcoded bias where certain names are always approved and others are always denied. In a real-world scenario, this would be replaced by an actual AI model's prediction.\n",
        "3)Get names input from the user: It prompts the user to enter a list of names separated by commas.\n",
        "4)Process names: The input string is split into a list of individual names\n",
        "5)Display the results: The results are converted into a pandas DataFrame and displayed, showing each name and its simulated approval status.\n",
        "6)Analyze for potential bias: It calculates and prints the total number of applications, approved applications, and denied applications"
      ],
      "metadata": {
        "id": "LWqc8i9mqBMd"
      }
    },
    {
      "cell_type": "markdown",
      "source": [
        "Task 03:Write prompt to write function calculate the nth Fibonacci number using recursion and generate comments and explain code document\n",
        "\n",
        "prompt:write a python program that calculates the nth Fibonacci number using recursion"
      ],
      "metadata": {
        "id": "W0gF1Qpqqi2X"
      }
    },
    {
      "cell_type": "code",
      "source": [
        "def fibonacci_recursive(n):\n",
        "  \"\"\"Calculates the nth Fibonacci number using recursion.\"\"\"\n",
        "  if n <= 1:\n",
        "    return n\n",
        "  else:\n",
        "    return(fibonacci_recursive(n-1) + fibonacci_recursive(n-2))\n",
        "\n",
        "# Get input from the user\n",
        "num_terms = int(input(\"Enter the number of Fibonacci terms to calculate: \"))\n",
        "\n",
        "# Check if the number of terms is valid\n",
        "if num_terms <= 0:\n",
        "  print(\"Please enter a positive integer.\")\n",
        "else:\n",
        "  print(\"Fibonacci sequence:\")\n",
        "  for i in range(num_terms):\n",
        "    print(fibonacci_recursive(i))"
      ],
      "metadata": {
        "colab": {
          "base_uri": "https://localhost:8080/"
        },
        "id": "py91vbQgqvZM",
        "outputId": "979ed4ba-8736-44fc-a973-0e4f36ef1e0d"
      },
      "execution_count": null,
      "outputs": [
        {
          "output_type": "stream",
          "name": "stdout",
          "text": [
            "Enter the number of Fibonacci terms to calculate: 45\n",
            "Fibonacci sequence:\n",
            "0\n",
            "1\n",
            "1\n",
            "2\n",
            "3\n",
            "5\n",
            "8\n",
            "13\n",
            "21\n",
            "34\n",
            "55\n",
            "89\n",
            "144\n",
            "233\n",
            "377\n",
            "610\n",
            "987\n",
            "1597\n",
            "2584\n",
            "4181\n",
            "6765\n",
            "10946\n",
            "17711\n",
            "28657\n",
            "46368\n",
            "75025\n",
            "121393\n",
            "196418\n",
            "317811\n",
            "514229\n",
            "832040\n",
            "1346269\n",
            "2178309\n",
            "3524578\n",
            "5702887\n",
            "9227465\n"
          ]
        },
        {
          "output_type": "stream",
          "name": "stderr",
          "text": [
            "\n",
            "KeyboardInterrupt\n",
            "\n"
          ]
        }
      ]
    },
    {
      "cell_type": "markdown",
      "source": [
        "Explanation:\n",
        "This code calculates Fibonacci numbers using recursion. The fibonacci_recursive function returns n for n <= 1. Otherwise, it recursively calls itself for n-1 and n-2 and sums the results. It prompts the user for the number of terms to calculate. It validates the input to ensure it's a positive integer. Finally, it prints the calculated Fibonacci sequence up to the specified number of terms."
      ],
      "metadata": {
        "id": "jVkk3D6xrRLL"
      }
    },
    {
      "cell_type": "markdown",
      "source": [
        "Task04:Ask to generate a job applicant scoring system based on input features (e.g.,education, experience, gender, age). Analyze the scoring logic for bias or unfair weightings\n",
        "\n",
        "prompt:write a python code that generates  a job applicant scoring system based on their education ,experience, gender,age"
      ],
      "metadata": {
        "id": "KHhylMGArxZT"
      }
    },
    {
      "cell_type": "code",
      "source": [
        "def score_applicant(education, experience, gender, age):\n",
        "  \"\"\"\n",
        "  Calculates a job applicant score based on education, experience, gender, and age.\n",
        "  NOTE: Including gender and age in a scoring system can introduce bias and may be unethical or illegal.\n",
        "  This is for demonstration purposes to analyze potential bias.\n",
        "  \"\"\"\n",
        "  # Assign weights to each criterion\n",
        "  # These weights are arbitrary and can be adjusted\n",
        "  education_weight = 0.3\n",
        "  experience_weight = 0.5\n",
        "  # WARNING: Including gender and age weights can lead to bias.\n",
        "  # In a real-world system, carefully consider if these factors are truly relevant and how to mitigate bias.\n",
        "  gender_weight = 0.1\n",
        "  age_weight = 0.1\n",
        "\n",
        "  # Convert education level to a numerical value (example scale)\n",
        "  education_scores = {\n",
        "      \"high school\": 1,\n",
        "      \"associate's degree\": 2,\n",
        "      \"bachelor's degree\": 3,\n",
        "      \"master's degree\": 4,\n",
        "      \"phd\": 5\n",
        "  }\n",
        "  education_score = education_scores.get(education.lower(), 0) # Default to 0 if education level is not in the dictionary\n",
        "\n",
        "  # Use experience directly as a score (assuming years of experience)\n",
        "  experience_score = experience\n",
        "\n",
        "  # Assign scores based on gender (example: arbitrary assignment for demonstration of potential bias)\n",
        "  # WARNING: This is a highly simplified and potentially biased representation.\n",
        "  gender_scores = {\n",
        "      \"male\": 1,\n",
        "      \"female\": 1, # Start with equal scores and analyze for bias later\n",
        "      \"non-binary\": 1,\n",
        "      \"prefer not to say\": 0\n",
        "  }\n",
        "  gender_score = gender_scores.get(gender.lower(), 0)\n",
        "\n",
        "  # Assign scores based on age (example: arbitrary assignment for demonstration of potential bias)\n",
        "  # WARNING: Age discrimination is illegal in many places.\n",
        "  # This is a simplified example and doesn't reflect a fair or legal scoring system.\n",
        "  if age >= 18 and age < 25:\n",
        "      age_score = 1\n",
        "  elif age >= 25 and age < 40:\n",
        "      age_score = 2\n",
        "  elif age >= 40 and age < 60:\n",
        "      age_score = 1.5\n",
        "  else:\n",
        "      age_score = 0\n",
        "\n",
        "\n",
        "  # Calculate the total score\n",
        "  total_score = (education_score * education_weight) + \\\n",
        "                (experience_score * experience_weight) + \\\n",
        "                (gender_score * gender_weight) + \\\n",
        "                (age_score * age_weight)\n",
        "\n",
        "  return total_score\n",
        "\n",
        "# This is just the function definition.\n",
        "# We will generate sample data and apply this function in the next steps."
      ],
      "metadata": {
        "id": "X00RqItTsAAD"
      },
      "execution_count": null,
      "outputs": []
    },
    {
      "cell_type": "markdown",
      "source": [
        "Explanation:\n",
        "This code defines a function score_applicant to score job applicants. It takes education, experience, gender, and age as input. Arbitrary weights are assigned to each criterion for calculation. Education levels are converted to numerical scores using a dictionary. Experience is used directly as a score (assuming years). Scores are assigned based on gender and age, with warnings about potential bias. The total score is calculated by weighting and summing the individual scores. The function returns the final calculated total score for the applicant.\n",
        "\n",
        "\n",
        "\n",
        "\n",
        "\n",
        "\n"
      ],
      "metadata": {
        "id": "7Sp4H5VZtxd9"
      }
    },
    {
      "cell_type": "markdown",
      "source": [
        "TASK 05:code snippet\n",
        "![Screenshot 2025-09-09 143559.png](data:image/png;base64,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)"
      ],
      "metadata": {
        "id": "oh77u3rKuvMl"
      }
    },
    {
      "cell_type": "code",
      "source": [
        "def greet_user(name, gender):\n",
        "  \"\"\"Greets the user with a title based on gender, including a gender-neutral option.\"\"\"\n",
        "  title = \"\" # Initialize title as empty\n",
        "\n",
        "  if gender.lower() == \"male\":\n",
        "    title = \"Mr.\"\n",
        "  elif gender.lower() == \"female\":\n",
        "    title = \"Ms.\" # Using Ms. as a common neutral title for females\n",
        "  elif gender.lower() == \"non-binary\" or gender.lower() == \"prefer not to say\":\n",
        "      title = \"\" # No title for gender-neutral or prefer not to say\n",
        "  else:\n",
        "      title = \"\" # Default to no title for any other input\n",
        "\n",
        "  if title:\n",
        "      return f\"Hello, {title} {name}! Welcome.\"\n",
        "  else:\n",
        "      return f\"Hello, {name}! Welcome.\"\n",
        "\n",
        "# Example usage:\n",
        "print(greet_user(\"John\", \"male\"))\n",
        "print(greet_user(\"Jane\", \"female\"))\n",
        "print(greet_user(\"Alex\", \"non-binary\"))\n",
        "print(greet_user(\"Sam\", \"prefer not to say\"))\n",
        "print(greet_user(\"Chris\", \"unknown\"))"
      ],
      "metadata": {
        "colab": {
          "base_uri": "https://localhost:8080/"
        },
        "id": "az8Ja8LyvL27",
        "outputId": "84e1d9ea-cd11-4f31-ba97-b60473568fe2"
      },
      "execution_count": null,
      "outputs": [
        {
          "output_type": "stream",
          "name": "stdout",
          "text": [
            "Hello, Mr. John! Welcome.\n",
            "Hello, Ms. Jane! Welcome.\n",
            "Hello, Alex! Welcome.\n",
            "Hello, Sam! Welcome.\n",
            "Hello, Chris! Welcome.\n"
          ]
        }
      ]
    },
    {
      "cell_type": "markdown",
      "source": [
        "Explanation:This code defines a function called greet_user. It takes a user's name and gender as input. The function determines an appropriate title based on the provided gender. It specifically handles \"male\" with \"Mr.\" and \"female\" with \"Ms.\". For \"non-binary\" or \"prefer not to say\", no title is used. It defaults to no title for any other gender input. The code then constructs a greeting message. If a title was determined, the greeting includes the title and name. Otherwise, the greeting just includes the name, followed by \"! Welcome.\".\n",
        "\n"
      ],
      "metadata": {
        "id": "FBw67GRwv-SK"
      }
    },
    {
      "cell_type": "code",
      "source": [],
      "metadata": {
        "id": "pb1BouOCwM2H"
      },
      "execution_count": null,
      "outputs": []
    }
  ]
}