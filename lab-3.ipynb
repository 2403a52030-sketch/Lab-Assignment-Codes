{
  "nbformat": 4,
  "nbformat_minor": 0,
  "metadata": {
    "colab": {
      "provenance": [],
      "authorship_tag": "ABX9TyPT16Gcac80jjiN7Sruhwk5",
      "include_colab_link": true
    },
    "kernelspec": {
      "name": "python3",
      "display_name": "Python 3"
    },
    "language_info": {
      "name": "python"
    }
  },
  "cells": [
    {
      "cell_type": "markdown",
      "metadata": {
        "id": "view-in-github",
        "colab_type": "text"
      },
      "source": [
        "<a href=\"https://colab.research.google.com/github/2403a52030-sketch/Lab-Assignment-Codes/blob/main/Untitled1.ipynb\" target=\"_parent\"><img src=\"https://colab.research.google.com/assets/colab-badge.svg\" alt=\"Open In Colab\"/></a>"
      ]
    },
    {
      "cell_type": "markdown",
      "source": [
        "task 1:Try 3 different prompts to generate a factorial function.\n",
        "\n",
        "prompt:1)cerate a python function that generates a factorial\n",
        "\n",
        "       2)write a python function that takes a user input a nuber and gives the factorial of number\n",
        "\n",
        "       3) generate a python function that calculates the factorial given number"
      ],
      "metadata": {
        "id": "qx1F--FqnjBS"
      }
    },
    {
      "cell_type": "code",
      "source": [
        "def factorial(n):\n",
        "  \"\"\"\n",
        "  Calculates the factorial of a non-negative integer.\n",
        "\n",
        "  Args:\n",
        "    n: A non-negative integer.\n",
        "\n",
        "  Returns:\n",
        "    The factorial of n.\n",
        "  \"\"\"\n",
        "  if n == 0:\n",
        "    return 1\n",
        "  else:\n",
        "    return n * factorial(n-1)\n",
        "\n",
        "# Example usage\n",
        "num = 5\n",
        "print(f\"The factorial of {num} is {factorial(num)}\")"
      ],
      "metadata": {
        "colab": {
          "base_uri": "https://localhost:8080/"
        },
        "id": "G_aWwwGGn5j1",
        "outputId": "5991e266-9928-4868-e2e7-5494f9242ffc"
      },
      "execution_count": 1,
      "outputs": [
        {
          "output_type": "stream",
          "name": "stdout",
          "text": [
            "The factorial of 5 is 120\n"
          ]
        }
      ]
    },
    {
      "cell_type": "code",
      "metadata": {
        "colab": {
          "base_uri": "https://localhost:8080/"
        },
        "id": "164a0200",
        "outputId": "654a4c01-e9f2-4057-d998-59762448fa5c"
      },
      "source": [
        "def factorial_from_input():\n",
        "  \"\"\"\n",
        "  Takes user input, calculates the factorial, and prints the result.\n",
        "  \"\"\"\n",
        "  while True:\n",
        "    try:\n",
        "      num = int(input(\"Enter a non-negative integer: \"))\n",
        "      if num < 0:\n",
        "        print(\"Factorial is not defined for negative numbers.\")\n",
        "      else:\n",
        "        print(f\"The factorial of {num} is {factorial(num)}\")\n",
        "        break\n",
        "    except ValueError:\n",
        "      print(\"Invalid input. Please enter an integer.\")\n",
        "\n",
        "# Call the function to test\n",
        "factorial_from_input()"
      ],
      "execution_count": 2,
      "outputs": [
        {
          "output_type": "stream",
          "name": "stdout",
          "text": [
            "Enter a non-negative integer: 5\n",
            "The factorial of 5 is 120\n"
          ]
        }
      ]
    },
    {
      "cell_type": "code",
      "metadata": {
        "colab": {
          "base_uri": "https://localhost:8080/"
        },
        "id": "e3942d93",
        "outputId": "0c717e4d-01b9-4cda-a01d-885cd3b213a5"
      },
      "source": [
        "def factorial(n):\n",
        "  \"\"\"\n",
        "  Calculates the factorial of a non-negative integer.\n",
        "\n",
        "  Args:\n",
        "    n: A non-negative integer.\n",
        "\n",
        "  Returns:\n",
        "    The factorial of n.\n",
        "  \"\"\"\n",
        "  if n == 0:\n",
        "    return 1\n",
        "  else:\n",
        "    return n * factorial(n-1)\n",
        "\n",
        "# Example usage\n",
        "num = 5\n",
        "print(f\"The factorial of {num} is {factorial(num)}\")"
      ],
      "execution_count": 3,
      "outputs": [
        {
          "output_type": "stream",
          "name": "stdout",
          "text": [
            "The factorial of 5 is 120\n"
          ]
        }
      ]
    },
    {
      "cell_type": "markdown",
      "source": [
        " similarities:\n",
        "\n",
        "Both code snippets define and use the same factorial(n) function to calculate the factorial of a non-negative integer using recursion.\n",
        "Differences:\n",
        "\n",
        "Feature\tCode Snippet 1 (Fixed Input)\tCode Snippet 2 (User Input with Error Handling)\n",
        "Input Source\tUses a predefined integer variable (num = 5 in the examples)\tPrompts the user to enter a number using input()\n",
        "Flexibility\tLess flexible; always calculates the factorial of the same number\tMore flexible; allows the user to calculate the factorial of different numbers\n",
        "Error Handling\tNo explicit error handling for invalid input\tIncludes a try-except block to handle ValueError for non-integer input\n",
        "Negative Numbers\tNo explicit check for negative input\tChecks if the input is negative and provides an informative message\n",
        "Interactivity\tNon-interactive\tInteractive; requires user participation\n",
        "In essence, the first code snippet is a simple demonstration of the factorial function with a fixed value, while the second is designed for practical use, allowing users to input numbers and providing basic validation and error handling."
      ],
      "metadata": {
        "id": "MVH9h6X4qjCc"
      }
    },
    {
      "cell_type": "code",
      "source": [],
      "metadata": {
        "id": "MfkBL2Nrq11c"
      },
      "execution_count": null,
      "outputs": []
    },
    {
      "cell_type": "markdown",
      "source": [
        "task 2: Provide a clear example input-output prompt to generate a sorting function\n",
        "\n",
        " prompt: write a python function sort_list that makes a list of numbers as input and returns a new list with the numbers sorted in asscending order"
      ],
      "metadata": {
        "id": "8hKYHcxGrCS5"
      }
    },
    {
      "cell_type": "code",
      "source": [
        "def sort_list(numbers):\n",
        "  \"\"\"\n",
        "  Sorts a list of numbers in ascending order.\n",
        "\n",
        "  Args:\n",
        "    numbers: A list of numbers.\n",
        "\n",
        "  Returns:\n",
        "    A new list with the numbers sorted in ascending order.\n",
        "  \"\"\"\n",
        "  return sorted(numbers)\n",
        "\n",
        "# Example usage\n",
        "my_list = [3, 1, 4, 1, 5, 9, 2, 6]\n",
        "sorted_my_list = sort_list(my_list)\n",
        "print(f\"Original list: {my_list}\")\n",
        "print(f\"Sorted list: {sorted_my_list}\")"
      ],
      "metadata": {
        "colab": {
          "base_uri": "https://localhost:8080/"
        },
        "id": "qbRmsTtWrD-Y",
        "outputId": "659508cb-7c0b-433e-b498-c41e4c5fb494"
      },
      "execution_count": 4,
      "outputs": [
        {
          "output_type": "stream",
          "name": "stdout",
          "text": [
            "Original list: [3, 1, 4, 1, 5, 9, 2, 6]\n",
            "Sorted list: [1, 1, 2, 3, 4, 5, 6, 9]\n"
          ]
        }
      ]
    },
    {
      "cell_type": "markdown",
      "source": [
        "•\tTask 3:Start with the vague prompt “Generate python code to calculate power bill” and improve it step-by-step"
      ],
      "metadata": {
        "id": "FptjUFyWwnEh"
      }
    },
    {
      "cell_type": "code",
      "metadata": {
        "colab": {
          "base_uri": "https://localhost:8080/"
        },
        "id": "37fdcae1",
        "outputId": "22435106-5acb-4c88-d889-e6c23f2e6423"
      },
      "source": [
        "# This is a placeholder based on a vague prompt.\n",
        "# We need more details to calculate a power bill accurately.\n",
        "\n",
        "def calculate_power_bill():\n",
        "  \"\"\"\n",
        "  Calculates a power bill (placeholder).\n",
        "  \"\"\"\n",
        "  print(\"To calculate a power bill, I need more information about:\")\n",
        "  print(\"- Electricity usage (kWh)\")\n",
        "  print(\"- Rate per kWh\")\n",
        "  print(\"- Any fixed charges or fees\")\n",
        "  print(\"- Tiered rates or other complexities\")\n",
        "  return None\n",
        "\n",
        "calculate_power_bill()"
      ],
      "execution_count": 5,
      "outputs": [
        {
          "output_type": "stream",
          "name": "stdout",
          "text": [
            "To calculate a power bill, I need more information about:\n",
            "- Electricity usage (kWh)\n",
            "- Rate per kWh\n",
            "- Any fixed charges or fees\n",
            "- Tiered rates or other complexities\n"
          ]
        }
      ]
    },
    {
      "cell_type": "markdown",
      "source": [
        "Acknowledge the vague prompt: Recognize the initial vague prompt \"Generate python code to calculate power bill\".\n",
        "\n",
        "Identify missing information: Determine what details are needed to make the prompt specific enough to generate functional code\n",
        "\n",
        "Refine the prompt - step 1: Create a slightly more specific prompt based on the identified missing information.\n",
        "\n",
        "\n",
        "Further refine the prompt - step 2: Based on the generated code or further consideration, refine the prompt even more to include additional details or constraints (e.g., tiered pricing, taxes, fees).\n",
        "\n",
        "Generate code: Generate code based on the more detailed prompt.\n",
        "Explain the code: Explain the generated code and how it addresses the refined prompt.\n",
        "\n",
        "Finish task: Summarize the process and the outcome, highlighting how prompt refinement improved the generated code.\n",
        "\n",
        "Reducing ambiguity: Less chance of the AI misinterpreting your request.\n",
        "Increasing relevance: The output is more likely to be exactly what you're looking for.\n",
        "Improving accuracy: Specific details help the AI generate correct and functional code."
      ],
      "metadata": {
        "id": "ffgtQ8TUsYqZ"
      }
    },
    {
      "cell_type": "markdown",
      "source": [
        "task 4:Write structured comments to help AI generate two linked functions (e.g., login_user()\n",
        "and register_user())"
      ],
      "metadata": {
        "id": "Rgntfp2RtHqq"
      }
    },
    {
      "cell_type": "code",
      "source": [
        "# Function 1: register_user\n",
        "# This function should handle the process of a new user registering on the platform.\n",
        "# It should take username and password as input.\n",
        "# It should check if the username already exists.\n",
        "# If the username is available, it should securely store the user's credentials (this is a placeholder, actual implementation would involve hashing and a database).\n",
        "# After successful registration, it should indicate success.\n",
        "\n",
        "# Function 2: login_user\n",
        "# This function should handle the process of an existing user logging in.\n",
        "# It should take username and password as input.\n",
        "# It should check if the username exists.\n",
        "# If the username exists, it should verify the provided password against the stored credentials (placeholder - would involve password verification).\n",
        "# If the credentials are valid, it should indicate successful login.\n",
        "# This function is linked to register_user as a user needs to register before they can log in.\n",
        "# Consider how a successful registration might lead to an automatic login or a prompt to log in.\n",
        "\n",
        "# Now, based on the comments above, generate the Python code for these two functions."
      ],
      "metadata": {
        "id": "vUrS8BaGtI6a"
      },
      "execution_count": 6,
      "outputs": []
    },
    {
      "cell_type": "code",
      "source": [],
      "metadata": {
        "id": "-h_rPkoLtdxI"
      },
      "execution_count": null,
      "outputs": []
    },
    {
      "cell_type": "markdown",
      "source": [
        "Clearer Intent: Comments allow you to explicitly state the purpose of each function and any shared components or workflows.\n",
        "Identified Dependencies: By mentioning how login_user is linked to register_user, you guide the AI to understand the necessary flow and potential shared data structures (like where user credentials would be stored).\n",
        "Reusable Logic: While the AI generates the code, the clear description in comments about shared aspects (like checking for existing usernames or verifying passwords) can lead the AI to implement these parts in a consistent manner across the related functions, potentially using similar or shared internal logic.\n",
        "In the case of register_user and login_user, both functions would need to interact with a user data store. By describing this in the comments, you encourage the AI to consider this shared requirement and generate code that reflects this shared logic, even if the actual data storage is represented by a placeholder.\n",
        "\n",
        "Would you like me to generate the code for the register_user and login_user functions based on the structured comments we created"
      ],
      "metadata": {
        "id": "5MP8Y5XvtkPQ"
      }
    },
    {
      "cell_type": "markdown",
      "source": [
        "task 5:analyzing Prompt Specificity: Improving Temperature Conversion Function with Clear Instructions"
      ],
      "metadata": {
        "id": "K1_v_SLLujrD"
      }
    },
    {
      "cell_type": "code",
      "source": [],
      "metadata": {
        "id": "FpCNemBivHs7"
      },
      "execution_count": null,
      "outputs": []
    },
    {
      "cell_type": "markdown",
      "source": [
        "Identify missing information: Determine what specific details are needed to make the prompt clear and actionable for generating the function (e.g., which units to convert, the formula, input/output format).\n",
        "Refine the prompt - step 1: Create a more specific prompt based on the identified missing information.\n",
        "Generate code - step 1: Generate code based on the first refined prompt.\n",
        "Further refine the prompt - step 2: Refine the prompt further to include more details or handle specific cases (e.g., error handling for invalid input).\n",
        "\n",
        "Generate code - step 2: Generate code based on the second refined prompt.\n",
        "Compare and explain: Compare the code generated from the vague and refined prompts, explaining how the increased specificity led to a more complete and useful function.\n",
        "Finish task: Summarize the findings on prompt specificity and its impact on AI code generation."
      ],
      "metadata": {
        "id": "5cXjQt5Qvg2L"
      }
    },
    {
      "cell_type": "code",
      "source": [],
      "metadata": {
        "id": "5xzjMOidviJA"
      },
      "execution_count": null,
      "outputs": []
    },
    {
      "cell_type": "markdown",
      "source": [
        "When you provide a clearer, more specific prompt, you are essentially giving the AI more constraints and information to work with. This allows the AI to generate code that is:\n",
        "\n",
        "More accurate: It better reflects the specific requirements.\n",
        "More complete: It's more likely to include necessary details like error handling or specific logic.\n",
        "More aligned with intent: The code will do what you actually wanted it to do.\n",
        "Essentially, clearer prompts lead to code that is more functional, robust, and closer to a production-ready state – which we can consider higher quality in this context.\n",
        "\n",
        "We can observe this difference in code quality as we go through the steps of refining the prompt for the temperature conversion function, as outlined in the plan we just created. We'll start with a vague prompt, see the resulting code, and then refine the prompt to get more specific and potentially higher-quality code."
      ],
      "metadata": {
        "id": "YKLt9bbevqZu"
      }
    },
    {
      "cell_type": "code",
      "source": [],
      "metadata": {
        "id": "O8F0U2F9vrpR"
      },
      "execution_count": null,
      "outputs": []
    }
  ]
}
