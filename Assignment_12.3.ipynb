{
  "nbformat": 4,
  "nbformat_minor": 0,
  "metadata": {
    "colab": {
      "provenance": [],
      "authorship_tag": "ABX9TyN9puUHKoHq9TSuo8NGMiZx",
      "include_colab_link": true
    },
    "kernelspec": {
      "name": "python3",
      "display_name": "Python 3"
    },
    "language_info": {
      "name": "python"
    }
  },
  "cells": [
    {
      "cell_type": "markdown",
      "metadata": {
        "id": "view-in-github",
        "colab_type": "text"
      },
      "source": [
        "<a href=\"https://colab.research.google.com/github/2403a52030-sketch/Lab-Assignment-Codes/blob/main/Assignment_12.3.ipynb\" target=\"_parent\"><img src=\"https://colab.research.google.com/assets/colab-badge.svg\" alt=\"Open In Colab\"/></a>"
      ]
    },
    {
      "cell_type": "markdown",
      "source": [
        "**Task-1**:  **Linear Search implementation**\n",
        "\n",
        "Write python code for linear_search() function to search a value\n",
        "in a list and extract it’s index"
      ],
      "metadata": {
        "id": "EM179HBo8v73"
      }
    },
    {
      "cell_type": "markdown",
      "source": [
        "**Prompt:**\n",
        "\n",
        "Write a Python function linear_search(lst, target) that performs a linear search to find a given value in a list. The function should return the index of the value if found, or -1 if not found. Include example test cases"
      ],
      "metadata": {
        "id": "soaF0ens9UTH"
      }
    },
    {
      "cell_type": "code",
      "source": [
        "def linear_search(lst, target):\n",
        "  \"\"\"\n",
        "  Performs a linear search to find a target value in a list.\n",
        "\n",
        "  Args:\n",
        "    lst: The list to search within.\n",
        "    target: The value to search for.\n",
        "\n",
        "  Returns:\n",
        "    The index of the target value if found, or -1 if not found.\n",
        "  \"\"\"\n",
        "  for i in range(len(lst)):\n",
        "    if lst[i] == target:\n",
        "      return i\n",
        "  return -1\n",
        "\n",
        "# Example test cases\n",
        "my_list = [10, 20, 30, 40, 50]\n",
        "target_value_1 = 30\n",
        "target_value_2 = 60\n",
        "\n",
        "index_1 = linear_search(my_list, target_value_1)\n",
        "index_2 = linear_search(my_list, target_value_2)\n",
        "\n",
        "print(f\"The index of {target_value_1} in the list is: {index_1}\")\n",
        "print(f\"The index of {target_value_2} in the list is: {index_2}\")"
      ],
      "metadata": {
        "colab": {
          "base_uri": "https://localhost:8080/"
        },
        "id": "-tOJw81y9wX3",
        "outputId": "6c5271ae-b0a8-4235-94a2-9cac36924cb4"
      },
      "execution_count": 1,
      "outputs": [
        {
          "output_type": "stream",
          "name": "stdout",
          "text": [
            "The index of 30 in the list is: 2\n",
            "The index of 60 in the list is: -1\n"
          ]
        }
      ]
    },
    {
      "cell_type": "markdown",
      "source": [
        "**Explaination:**\n",
        "\n",
        "**def linear_search(lst, target)** :: This line defines a function called linear_search that takes two arguments: lst (the list to search within) and target (the value to search for).\n",
        "\n",
        "**Docstring:** This is a docstring that explains what the function does, its arguments, and what it returns.\n",
        "\n",
        "**for i in range(len(lst))::** This loop iterates through the indices of the list lst. len(lst) gives the number of elements in the list, and range() generates a sequence of numbers from 0 up to (but not including) the length of the list.\n",
        "\n",
        "**if lst[i] == target:**: Inside the loop, this condition checks if the element at the current index i in the list (lst[i]) is equal to the target value.\n",
        "\n",
        "**return i:** If the target is found, the function immediately returns the current index i.\n",
        "\n",
        "**return -1:** If the loop finishes without finding the target value (i.e., the if condition was never met), the function returns -1. This is a common convention to indicate that the element was not found.\n",
        "\n",
        "**my_list = [10, 20, 30, 40, 50]:** This creates a sample list.\n",
        "\n",
        "**target_value_1 = 30 and target_value_2 = 60:** These lines define two target values to search for."
      ],
      "metadata": {
        "id": "rhA7g0im-SbY"
      }
    },
    {
      "cell_type": "markdown",
      "source": [
        "**Task-2**:  **Sorting Algorithms**\n",
        "\n",
        "Ask AI to implement Bubble Sort and check sorted output"
      ],
      "metadata": {
        "id": "3PXRFGHwA5dW"
      }
    },
    {
      "cell_type": "markdown",
      "source": [
        "**Prompt:**\n",
        "\n",
        "generate a python program to implement bubble sort and check sorted output"
      ],
      "metadata": {
        "id": "myk195ZyBLHD"
      }
    },
    {
      "cell_type": "code",
      "source": [
        "def bubble_sort(lst):\n",
        "  \"\"\"\n",
        "  Sorts a list using the bubble sort algorithm.\n",
        "\n",
        "  Args:\n",
        "    lst: The list to sort.\n",
        "  \"\"\"\n",
        "  n = len(lst)\n",
        "  # Traverse through all list elements\n",
        "  for i in range(n):\n",
        "    # Last i elements are already in place\n",
        "    for j in range(0, n - i - 1):\n",
        "      # traverse the list from 0 to n-i-1\n",
        "      # Swap if the element found is greater than the next element\n",
        "      if lst[j] > lst[j + 1]:\n",
        "        lst[j], lst[j + 1] = lst[j + 1], lst[j]\n",
        "\n",
        "# Example usage\n",
        "my_list = [64, 34, 25, 12, 22, 11, 90]\n",
        "\n",
        "print(\"Original list:\", my_list)\n",
        "\n",
        "bubble_sort(my_list)\n",
        "\n",
        "print(\"Sorted list:\", my_list)"
      ],
      "metadata": {
        "colab": {
          "base_uri": "https://localhost:8080/"
        },
        "id": "BvYR4gRfBXAD",
        "outputId": "630cc11d-80a3-4361-ee9a-f7d4dfe148f3"
      },
      "execution_count": 5,
      "outputs": [
        {
          "output_type": "stream",
          "name": "stdout",
          "text": [
            "Original list: [64, 34, 25, 12, 22, 11, 90]\n",
            "Sorted list: [11, 12, 22, 25, 34, 64, 90]\n"
          ]
        }
      ]
    },
    {
      "cell_type": "markdown",
      "source": [
        "**Explaination:**\n",
        "\n",
        "def bubble_sort(lst): **bold text**: This defines the function bubble_sort that takes one argument, lst, which is the list to be sorted.\n",
        "\n",
        "**n = len(lst)**: This line gets the number of elements in the list and stores it in the variable n.\n",
        "\n",
        "**for i in range(n)::** This is the outer loop. It controls the number of passes through the list. In each pass, the largest unsorted element \"bubbles up\" to its correct position at the end of the unsorted portion of the list. The loop runs n times, but the effective number of passes needed is n-1.\n",
        "\n",
        "**for j in range(0, n - i - 1)::** This is the inner loop. It iterates through the unsorted portion of the list. The range (0, n - i - 1) decreases with each outer loop iteration (i) because the elements at the end of the list become sorted.\n",
        "\n",
        "**if lst[j] > lst[j + 1]::** This is the core comparison step. It checks if the current element (lst[j]) is greater than the next element (lst[j + 1]).\n",
        "\n",
        "**lst[j], lst[j + 1] = lst[j + 1], lst[j]:** If the condition in the if statement is true (the elements are in the wrong order), this line swaps the two elements. This is done using Python's tuple packing and unpacking feature for a concise swap."
      ],
      "metadata": {
        "id": "g73zz3vJBeEy"
      }
    },
    {
      "cell_type": "markdown",
      "source": [
        "**Task-3:** ** Optimization**\n",
        "\n",
        "\n",
        "Write python code to solve below case study using linear\n",
        "optimization"
      ],
      "metadata": {
        "id": "IcbnL8JPCcvo"
      }
    },
    {
      "cell_type": "markdown",
      "source": [
        "**Prompt:**\n",
        "\n",
        "Prompt:generate a python program to solve the below case study using linear optimization:\n",
        "Consider a chocolate manufacturing company that produces only two types of chocolate i.e. A and B. Both the chocolates require Milk and Choco only. Venkataramana\n",
        "To manufacture each unit of A and B, the following quantities ar required:\n",
        "Each unit of A requires 1 unit of Milk and 3 units of Choco\n",
        "Each unit of B requires 1 unit of Milk and 2 units of Choco\n",
        " The company kitchen has a total of 5 units of Milk and 12 units of Choco. On each sale, the company makes a profit of Rs 6 per unit A sold and Rs 5 per unit B sold.\n",
        "Now, the company wishes to maximize its profit. How many units of A and B shoud it produce respectively?"
      ],
      "metadata": {
        "id": "416ea-vQCwmA"
      }
    },
    {
      "cell_type": "code",
      "source": [
        "!pip install pulp\n",
        "\n",
        "from pulp import *\n",
        "\n",
        "# Create a LP problem\n",
        "prob = LpProblem(\"Chocolate Production\", LpMaximize)\n",
        "\n",
        "# Define the decision variables\n",
        "# x represents the number of units of chocolate A to produce\n",
        "x = LpVariable(\"A\", 0, None, LpInteger)\n",
        "# y represents the number of units of chocolate B to produce\n",
        "y = LpVariable(\"B\", 0, None, LpInteger)\n",
        "\n",
        "# Define the objective function (maximize profit)\n",
        "prob += 6 * x + 5 * y, \"Total Profit\"\n",
        "\n",
        "# Define the constraints\n",
        "# Milk constraint\n",
        "prob += 1 * x + 1 * y <= 5, \"Milk Constraint\"\n",
        "# Choco constraint\n",
        "prob += 3 * x + 2 * y <= 12, \"Choco Constraint\"\n",
        "\n",
        "# Solve the problem\n",
        "prob.solve()\n",
        "\n",
        "# Print the results\n",
        "print(\"Status:\", LpStatus[prob.status])\n",
        "print(\"Number of units of A to produce:\", x.varValue)\n",
        "print(\"Number of units of B to produce:\", y.varValue)\n",
        "print(\"Maximum Profit:\", value(prob.objective))"
      ],
      "metadata": {
        "colab": {
          "base_uri": "https://localhost:8080/"
        },
        "id": "47vFXCR8C_Av",
        "outputId": "40ed3ad9-d313-4cf8-877d-f0bab378b576"
      },
      "execution_count": 6,
      "outputs": [
        {
          "output_type": "stream",
          "name": "stdout",
          "text": [
            "Collecting pulp\n",
            "  Downloading pulp-3.3.0-py3-none-any.whl.metadata (8.4 kB)\n",
            "Downloading pulp-3.3.0-py3-none-any.whl (16.4 MB)\n",
            "\u001b[2K   \u001b[90m━━━━━━━━━━━━━━━━━━━━━━━━━━━━━━━━━━━━━━━━\u001b[0m \u001b[32m16.4/16.4 MB\u001b[0m \u001b[31m86.7 MB/s\u001b[0m eta \u001b[36m0:00:00\u001b[0m\n",
            "\u001b[?25hInstalling collected packages: pulp\n",
            "Successfully installed pulp-3.3.0\n",
            "Status: Optimal\n",
            "Number of units of A to produce: 2.0\n",
            "Number of units of B to produce: 3.0\n",
            "Maximum Profit: 27.0\n"
          ]
        },
        {
          "output_type": "stream",
          "name": "stderr",
          "text": [
            "/usr/local/lib/python3.12/dist-packages/pulp/pulp.py:1489: UserWarning: Spaces are not permitted in the name. Converted to '_'\n",
            "  warnings.warn(\"Spaces are not permitted in the name. Converted to '_'\")\n"
          ]
        }
      ]
    },
    {
      "cell_type": "markdown",
      "source": [
        "**Explaination:**\n",
        "\n",
        "**!pip install pulp:** This line is a shell command executed within the Colab environment. It installs the pulp library, which is a Python library for linear programming.\n",
        "\n",
        "from pulp import *: This line imports all necessary functions and classes from the pulp library.\n",
        "\n",
        "**prob = LpProblem(\"Chocolate Production\", LpMaximize):** This creates a linear programming problem instance named \"Chocolate Production\". LpMaximize indicates that we want to maximize the objective function (profit in this case).\n",
        "\n",
        "x = LpVariable(\"A\", 0, None, LpInteger) and y = LpVariable(\"B\", 0, None, LpInteger): These lines define the decision variables.\n",
        "\n",
        "x represents the number of units of chocolate A to produce.\n",
        "\n",
        "y represents the number of units of chocolate B to produce.\n",
        "\n",
        "\"A\" and \"B\" are the names of the variables.\n",
        "\n",
        "0 is the lower bound for both variables (cannot produce negative units).\n",
        "\n",
        "None indicates no upper bound initially.\n",
        "\n",
        "LpInteger specifies that the variables must be integers (you can't produce fractions of chocolates).\n",
        "\n",
        "prob += 6 * x + 5 * y, \"Total Profit\":  This line defines the objective function that we want to maximize. The profit is calculated as 6 times the number of units of A (x) plus 5 times the number of units of B (y). \"Total Profit\" is a descriptive name for this objective.\n",
        "\n",
        "prob += 1 * x + 1 * y <= 5, \"Milk Constraint\": This defines the first constraint, which is related to the milk resource. It states that the total amount of milk used to produce chocolate A (1 * x) and chocolate B (1 * y) must be less than or equal to the available 5 units of milk. \"Milk Constraint\" is a name for this constraint.\n",
        "\n",
        "prob += 3 * x + 2 * y <= 12, \"Choco Constraint\": This defines the second constraint, related to the chocolate resource. It states that the total amount of chocolate used to produce chocolate A (3 * x) and chocolate B (2 * y) must be less than or equal to the available 12 units of chocolate. \"Choco Constraint\" is a name for this constraint.\n",
        "\n",
        "**prob.solve():** This line solves the linear programming problem using a solver that pulp can access (it often uses the default CBC solver which is included).\n",
        "\n",
        "**print(\"Status:\", LpStatus[prob.status])**: This prints the status of the solution (e.g., Optimal, Infeasible, Unbounded). LpStatus is a dictionary provided by pulp to interpret the status code.\n",
        "\n",
        "print(\"Number of units of A to produce:\", x.varValue) and print(\"Number of units of B to produce:\", y.varValue): These lines print the optimal values for the decision variables x and y, which represent the number of units of A and B to produce to maximize profit. .varValue accesses the optimal value of a variable after the problem is solved.\n",
        "\n",
        "**print(\"Maximum Profit:\", value(prob.objective))**: This line prints the maximum profit achieved at the optimal solution. value(prob.objective) calculates the value of the objective function at the optimal variable values."
      ],
      "metadata": {
        "id": "ntHXpHS1DMuA"
      }
    },
    {
      "cell_type": "markdown",
      "source": [
        "**Task-4:** Gradient Descent Optimization\n",
        "\n",
        "Write python code to find value of x at which the function\n",
        "f(x)=2X3+4x+5 will be minimum"
      ],
      "metadata": {
        "id": "q4k1zuucFG5W"
      }
    },
    {
      "cell_type": "markdown",
      "source": [
        "**Prompt:**\n",
        "\n",
        " Write a Python program to find the value of\n",
        "𝑥\n",
        "x at which the function\n",
        "𝑓\n",
        "(\n",
        "𝑥\n",
        ")\n",
        "=\n",
        "2\n",
        "𝑥\n",
        "3\n",
        "+\n",
        "4\n",
        "𝑥\n",
        "+\n",
        "5\n",
        "f(x)=2x\n",
        "3\n",
        "+4x+5 is minimum using calculus (derivatives)"
      ],
      "metadata": {
        "id": "Uxy-JNdZFTPQ"
      }
    },
    {
      "cell_type": "code",
      "source": [
        "import sympy\n",
        "\n",
        "x = sympy.Symbol('x')\n",
        "f_x = 2*x**3 + 4*x + 5\n",
        "f_prime_x = sympy.diff(f_x, x)\n",
        "\n",
        "print(f\"The function f(x) is: {f_x}\")\n",
        "print(f\"The derivative of f(x) is: {f_prime_x}\")\n",
        "\n",
        "# Evaluate the derivative for a few values to show it's always positive\n",
        "print(f\"f'(0): {f_prime_x.subs(x, 0)}\")\n",
        "print(f\"f'(1): {f_prime_x.subs(x, 1)}\")\n",
        "print(f\"f'(-1): {f_prime_x.subs(x, -1)}\")"
      ],
      "metadata": {
        "colab": {
          "base_uri": "https://localhost:8080/"
        },
        "id": "B9wlSs4pFuwQ",
        "outputId": "28219934-8623-474b-cc24-66bc37685af0"
      },
      "execution_count": 8,
      "outputs": [
        {
          "output_type": "stream",
          "name": "stdout",
          "text": [
            "The function f(x) is: 2*x**3 + 4*x + 5\n",
            "The derivative of f(x) is: 6*x**2 + 4\n",
            "f'(0): 4\n",
            "f'(1): 10\n",
            "f'(-1): 10\n"
          ]
        }
      ]
    },
    {
      "cell_type": "markdown",
      "source": [
        "**Explaination:**\n",
        "\n",
        "import sympy: This line imports the sympy library.\n",
        "\n",
        "x = sympy.Symbol('x'): This line defines x as a symbolic variable. This is important because sympy works with symbols rather than numerical values at this stage.\n",
        "\n",
        "f_x = 2*x**3 + 4*x + 5: This line defines the function f(x) symbolically using the symbolic variable x.\n",
        "\n",
        "f_prime_x = sympy.diff(f_x, x): This is the core of the calculus part. sympy.diff() is used to find the derivative of a function. Here, we are finding the derivative of f_x with respect to x. The result, the derivative, is stored in the variable f_prime_x.\n",
        "\n",
        "print(f\"The function f(x) is: {f_x}\"): This line prints the symbolic representation of the original function f(x).\n",
        "\n",
        "print(f\"The derivative of f(x) is: {f_prime_x}\"): This line prints the symbolic representation of the derivative of f(x), which is 6*x**2 + 4.\n",
        "\n",
        " Evaluate the derivative for a few values to show it's always positive: This is a comment explaining the purpose of the following lines."
      ],
      "metadata": {
        "id": "hszxTZ2DGf0C"
      }
    }
  ]
}