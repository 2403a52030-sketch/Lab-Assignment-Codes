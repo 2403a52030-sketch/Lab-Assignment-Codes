{
  "nbformat": 4,
  "nbformat_minor": 0,
  "metadata": {
    "colab": {
      "provenance": [],
      "authorship_tag": "ABX9TyNjbYA6u0x48HVuAv/gZBOg",
      "include_colab_link": true
    },
    "kernelspec": {
      "name": "python3",
      "display_name": "Python 3"
    },
    "language_info": {
      "name": "python"
    }
  },
  "cells": [
    {
      "cell_type": "markdown",
      "metadata": {
        "id": "view-in-github",
        "colab_type": "text"
      },
      "source": [
        "<a href=\"https://colab.research.google.com/github/2403a52030-sketch/Lab-Assignment-Codes/blob/main/Assignment_13_2.ipynb\" target=\"_parent\"><img src=\"https://colab.research.google.com/assets/colab-badge.svg\" alt=\"Open In Colab\"/></a>"
      ]
    },
    {
      "cell_type": "markdown",
      "source": [
        "**Task-1:** **Remove Repetition**\n",
        "\n",
        "Provide AI with the following redundant code and ask it to\n",
        "refactor\n",
        "\n",
        "Python Code\n",
        "\n",
        "def calculate_area(shape, x, y=0):\n",
        "\n",
        " if shape == \"rectangle\":\n",
        "\n",
        "  return x * y\n",
        "\n",
        " elif shape == \"square\":\n",
        "\n",
        "  return x * x\n",
        "\n",
        " elif shape == \"circle\":\n",
        "\n",
        "  return 3.14 * x * x"
      ],
      "metadata": {
        "id": "8Y_gu4uf1W4H"
      }
    },
    {
      "cell_type": "markdown",
      "source": [
        "Prompt:\n",
        "\n",
        "refactor the above code"
      ],
      "metadata": {
        "id": "0h2x7YG32Ga4"
      }
    },
    {
      "cell_type": "code",
      "execution_count": 2,
      "metadata": {
        "colab": {
          "base_uri": "https://localhost:8080/"
        },
        "id": "sjJaywmEweiG",
        "outputId": "28de7e7f-3eb5-447b-d9b3-5fc3e90d8f7a"
      },
      "outputs": [
        {
          "output_type": "stream",
          "name": "stdout",
          "text": [
            "50\n",
            "49\n",
            "50.26548245743669\n",
            "Invalid shape\n"
          ]
        }
      ],
      "source": [
        "import math\n",
        "\n",
        "def calculate_area(shape, x, y=0):\n",
        "    \"\"\"Calculates the area of different shapes using a dictionary lookup.\"\"\"\n",
        "    area_calculations = {\n",
        "        \"rectangle\": lambda: x * y,\n",
        "        \"square\": lambda: x * x,\n",
        "        \"circle\": lambda: math.pi * x * x\n",
        "    }\n",
        "\n",
        "    if shape in area_calculations:\n",
        "        return area_calculations[shape]()\n",
        "    else:\n",
        "        return \"Invalid shape\"\n",
        "\n",
        "# Example usage:\n",
        "print(calculate_area(\"rectangle\", 5, 10))\n",
        "print(calculate_area(\"square\", 7))\n",
        "print(calculate_area(\"circle\", 4))\n",
        "print(calculate_area(\"triangle\", 5, 10)) # Example of invalid shape"
      ]
    },
    {
      "cell_type": "markdown",
      "source": [
        "Explaination:\n",
        "\n",
        "It imports the math module for math.pi.\n",
        "\n",
        "A dictionary area_calculations is created. The keys are the shape names (strings) and the values are anonymous functions (lambdas) that perform the area calculation for that shape. This makes the code more concise and easy to extend with new shapes.\n",
        "\n",
        "The function checks if the given shape is a key in the area_calculations dictionary.\n",
        "\n",
        "If the shape is found, it retrieves the corresponding lambda function from the dictionary and calls it using ().\n",
        "\n",
        "If the shape is not found, it returns \"Invalid shape\".\n",
        "\n",
        "The code then shows example usage of the function.\n"
      ],
      "metadata": {
        "id": "hMjVBQIB34gK"
      }
    },
    {
      "cell_type": "markdown",
      "source": [
        "Task-2:  Error Handling in Legacy Code\n",
        "\n",
        "def read_file(filename):\n",
        "\n",
        "f = open(filename, \"r\")\n",
        "\n",
        "data = f.read()\n",
        "\n",
        "f.close()\n",
        "\n",
        "return data"
      ],
      "metadata": {
        "id": "Z6gjd6L-4O17"
      }
    },
    {
      "cell_type": "markdown",
      "source": [
        "Prompt:Refactor this Python function to use with open() and proper try-except error handling:\n",
        "\n",
        "Python Code\n",
        "\n",
        "def read_file(filename):\n",
        "\n",
        "f = open(filename, \"r\")\n",
        "\n",
        "data = f.read()\n",
        "\n",
        "f.close()\n",
        "\n",
        "return data"
      ],
      "metadata": {
        "id": "fPDP4Pf64hI_"
      }
    },
    {
      "cell_type": "code",
      "metadata": {
        "colab": {
          "base_uri": "https://localhost:8080/"
        },
        "id": "28b5ecd9",
        "outputId": "0731b851-0aad-4446-f91f-c3345b30693b"
      },
      "source": [
        "# Create a sample file for testing\n",
        "file_content = \"This is some sample content for the file.\"\n",
        "with open(\"sample_file.txt\", \"w\") as f:\n",
        "    f.write(file_content)\n",
        "\n",
        "# Test the read_file function with the sample file\n",
        "print(\"Output for existing file:\")\n",
        "print(read_file(\"sample_file.txt\"))\n",
        "\n",
        "# Test the read_file function with a non-existent file\n",
        "print(\"\\nOutput for non-existent file:\")\n",
        "print(read_file(\"non_existent_file.txt\"))"
      ],
      "execution_count": 5,
      "outputs": [
        {
          "output_type": "stream",
          "name": "stdout",
          "text": [
            "Output for existing file:\n",
            "This is some sample content for the file.\n",
            "\n",
            "Output for non-existent file:\n",
            "Error: File 'non_existent_file.txt' not found.\n"
          ]
        }
      ]
    },
    {
      "cell_type": "markdown",
      "source": [
        "Explaination:\n",
        "\n",
        "It first creates a sample file named sample_file.txt and writes some content into it.\n",
        "\n",
        "Then, it calls the read_file function with sample_file.txt and prints the output, which should be the content of the file.\n",
        "\n",
        "Finally, it calls the read_file function with non_existent_file.txt (a file that doesn't exist) and prints the output, which will demonstrate the error handling implemented in the read_file function, showing a \"File not found\" error message"
      ],
      "metadata": {
        "id": "bpc2F7K95Lcv"
      }
    },
    {
      "cell_type": "markdown",
      "source": [
        "Task-3:Complex Refactoring\n",
        "\n",
        "Provide this legacy class to AI for readability and modularity\n",
        "improvements:\n",
        "\n",
        "Python Code\n",
        "\n",
        "class Student:\n",
        "\n",
        "def __init__(self, n, a, m1, m2, m3):\n",
        "\n",
        "self.n = n\n",
        "\n",
        "self.a = a\n",
        "\n",
        "self.m1 = m1\n",
        "\n",
        "self.m2 = m2\n",
        "\n",
        "self.m3 = m3\n",
        "\n",
        "def details(self):\n",
        "\n",
        "print(\"Name:\", self.n, \"Age:\", self.a)\n",
        "\n",
        "def total(self):\n",
        "\n",
        "return self.m1+self.m2+self.m3"
      ],
      "metadata": {
        "id": "PMpWc2s85hqm"
      }
    },
    {
      "cell_type": "markdown",
      "source": [
        "Prompt:\n",
        "\n",
        "Refactor the following legacy Student class for better readability and modularity. Improve variable naming, add docstrings, make print statements more readable, and store marks in a list so total marks can be computed using sum(self.marks)"
      ],
      "metadata": {
        "id": "DsvhgXpr53Q3"
      }
    },
    {
      "cell_type": "code",
      "source": [
        "class Student:\n",
        "    \"\"\"\n",
        "    Represents a student with their name, age, and marks in three subjects.\n",
        "    \"\"\"\n",
        "    def __init__(self, name, age, mark1, mark2, mark3):\n",
        "        \"\"\"\n",
        "        Initializes a new Student object.\n",
        "\n",
        "        Args:\n",
        "            name: The name of the student (string).\n",
        "            age: The age of the student (integer).\n",
        "            mark1: The mark in the first subject (integer).\n",
        "            mark2: The mark in the second subject (integer).\n",
        "            mark3: The mark in the third subject (integer).\n",
        "        \"\"\"\n",
        "        self.name = name\n",
        "        self.age = age\n",
        "        self.marks = [mark1, mark2, mark3]\n",
        "\n",
        "    def display_details(self):\n",
        "        \"\"\"\n",
        "        Displays the student's name and age.\n",
        "        \"\"\"\n",
        "        print(f\"Name: {self.name}, Age: {self.age}\")\n",
        "\n",
        "    def calculate_total_marks(self):\n",
        "        \"\"\"\n",
        "        Calculates the total marks of the student.\n",
        "\n",
        "        Returns:\n",
        "            The sum of the student's marks (integer).\n",
        "        \"\"\"\n",
        "        return sum(self.marks)\n",
        "\n",
        "# Example usage:\n",
        "student1 = Student(\"Alice\", 16, 85, 90, 78)\n",
        "student1.display_details()\n",
        "print(f\"Total Marks: {student1.calculate_total_marks()}\")"
      ],
      "metadata": {
        "colab": {
          "base_uri": "https://localhost:8080/"
        },
        "id": "LP3GOEUj6Dcd",
        "outputId": "68a0e66d-fc44-464e-ec0f-5d2d4dad6c0a"
      },
      "execution_count": 7,
      "outputs": [
        {
          "output_type": "stream",
          "name": "stdout",
          "text": [
            "Name: Alice, Age: 16\n",
            "Total Marks: 253\n"
          ]
        }
      ]
    },
    {
      "cell_type": "markdown",
      "source": [
        "Explaination:\n",
        "\n",
        "The Student class is defined with an __init__ method to initialize a student object with their name, age, and three marks. The marks are stored in a list called self.marks.\n",
        "\n",
        "The display_details method prints the student's name and age in a readable format.\n",
        "\n",
        "The calculate_total_marks method calculates the sum of the marks stored in the self.marks list.\n",
        "\n",
        "The example usage at the end creates a Student object named student1 with sample data.\n",
        "\n",
        "It then calls the display_details method to print the student's information and the calculate_total_marks method to print the total marks.\n"
      ],
      "metadata": {
        "id": "oN2MCTrg6S7o"
      }
    },
    {
      "cell_type": "markdown",
      "source": [
        "Task-4: Inefficient Loop Refactoring\n",
        "\n",
        "Refactor this inefficient loop with AI help\n",
        "\n",
        "Python Code\n",
        "\n",
        "nums = [1,2,3,4,5,6,7,8,9,10]\n",
        "\n",
        "squares = []\n",
        "\n",
        "for i in nums:\n",
        "\n",
        "squares.append(i * i)"
      ],
      "metadata": {
        "id": "7S4bv8NY6l71"
      }
    },
    {
      "cell_type": "markdown",
      "source": [
        "Prompt:\n",
        "\n",
        "Refactor this inefficient loop in the code:\n",
        "\n",
        "Python Code\n",
        "\n",
        "nums = [1,2,3,4,5,6,7,8,9,10]\n",
        "\n",
        "squares = []\n",
        "\n",
        "for i in nums:\n",
        "\n",
        "squares.append(i * i)"
      ],
      "metadata": {
        "id": "O9Ya0sUT6zIO"
      }
    },
    {
      "cell_type": "code",
      "source": [
        "# Original code (inefficient loop)\n",
        "nums = [1, 2, 3, 4, 5, 6, 7, 8, 9, 10]\n",
        "squares = []\n",
        "for i in nums:\n",
        "    squares.append(i * i)\n",
        "print(\"Original loop output:\", squares)\n",
        "\n",
        "# Refactored code (list comprehension)\n",
        "nums = [1, 2, 3, 4, 5, 6, 7, 8, 9, 10]\n",
        "squares_comprehension = [i * i for i in nums]\n",
        "print(\"List comprehension output:\", squares_comprehension)"
      ],
      "metadata": {
        "colab": {
          "base_uri": "https://localhost:8080/"
        },
        "id": "oaePUgc46xMh",
        "outputId": "3a7135a0-ab63-4d90-da7f-26a207d7bea1"
      },
      "execution_count": 8,
      "outputs": [
        {
          "output_type": "stream",
          "name": "stdout",
          "text": [
            "Original loop output: [1, 4, 9, 16, 25, 36, 49, 64, 81, 100]\n",
            "List comprehension output: [1, 4, 9, 16, 25, 36, 49, 64, 81, 100]\n"
          ]
        }
      ]
    },
    {
      "cell_type": "markdown",
      "source": [
        "Explaination:\n",
        "\n",
        "Original loop (inefficient loop): This is the traditional way using a for loop. It initializes an empty list squares, iterates through each number i in the nums list, calculates the square (i * i), and appends it to the squares list.\n",
        "\n",
        "Refactored code (list comprehension): This is a more Pythonic and efficient way to achieve the same result. [i * i for i in nums] is a list comprehension that reads almost like plain English: \"create a list of i * i for each i in nums\". It achieves the same outcome as the loop in a single, more concise line of code"
      ],
      "metadata": {
        "id": "hrSq0fO27WaD"
      }
    }
  ]
}