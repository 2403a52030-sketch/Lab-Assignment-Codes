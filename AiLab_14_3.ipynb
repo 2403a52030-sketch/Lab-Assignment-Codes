{
  "nbformat": 4,
  "nbformat_minor": 0,
  "metadata": {
    "colab": {
      "provenance": [],
      "include_colab_link": true
    },
    "kernelspec": {
      "name": "python3",
      "display_name": "Python 3"
    },
    "language_info": {
      "name": "python"
    }
  },
  "cells": [
    {
      "cell_type": "markdown",
      "metadata": {
        "id": "view-in-github",
        "colab_type": "text"
      },
      "source": [
        "<a href=\"https://colab.research.google.com/github/2403a52030-sketch/Lab-Assignment-Codes/blob/main/AiLab_14_3.ipynb\" target=\"_parent\"><img src=\"https://colab.research.google.com/assets/colab-badge.svg\" alt=\"Open In Colab\"/></a>"
      ]
    },
    {
      "cell_type": "markdown",
      "source": [
        "Task1: Ask AI to generate a simple HTML homepage for a \"Student Info\n",
        "Portal\" with a header, navigation menu, and footer"
      ],
      "metadata": {
        "id": "9FtWB8lV6GK4"
      }
    },
    {
      "cell_type": "markdown",
      "source": [
        "Prompt:generate a simple homepage for a student info portal with header ,navigation menu and footer"
      ],
      "metadata": {
        "id": "fpg5NcCG6JMk"
      }
    },
    {
      "cell_type": "code",
      "source": [
        "html_content = \"\"\"\n",
        "<!DOCTYPE html>\n",
        "<html>\n",
        "<head>\n",
        "<title>Student Info Portal</title>\n",
        "</head>\n",
        "<body>\n",
        "\n",
        "<header>\n",
        "  <h1>Student Info Portal</h1>\n",
        "</header>\n",
        "\n",
        "<nav>\n",
        "  <ul>\n",
        "    <li><a href=\"#\">Home</a></li>\n",
        "    <li><a href=\"#\">Dashboard</a></li>\n",
        "    <li><a href=\"#\">Courses</a></li>\n",
        "    <li><a href=\"#\">Grades</a></li>\n",
        "    <li><a href=\"#\">Contact</a></li>\n",
        "  </ul>\n",
        "</nav>\n",
        "\n",
        "<main>\n",
        "  <h2>Welcome to the Student Info Portal</h2>\n",
        "  <p>This is a simple homepage. You can add more content here.</p>\n",
        "</main>\n",
        "\n",
        "<footer>\n",
        "  <p>&copy; 2023 Student Info Portal</p>\n",
        "</footer>\n",
        "\n",
        "</body>\n",
        "</html>\n",
        "\"\"\"\n",
        "\n",
        "from IPython.display import HTML\n",
        "display(HTML(html_content))"
      ],
      "metadata": {
        "colab": {
          "base_uri": "https://localhost:8080/",
          "height": 259
        },
        "id": "GjTSGV3l9hDB",
        "outputId": "c9e2f04e-6586-4044-895d-ff0e26412365"
      },
      "execution_count": null,
      "outputs": [
        {
          "output_type": "display_data",
          "data": {
            "text/plain": [
              "<IPython.core.display.HTML object>"
            ],
            "text/html": [
              "\n",
              "<!DOCTYPE html>\n",
              "<html>\n",
              "<head>\n",
              "<title>Student Info Portal</title>\n",
              "</head>\n",
              "<body>\n",
              "\n",
              "<header>\n",
              "  <h1>Student Info Portal</h1>\n",
              "</header>\n",
              "\n",
              "<nav>\n",
              "  <ul>\n",
              "    <li><a href=\"#\">Home</a></li>\n",
              "    <li><a href=\"#\">Dashboard</a></li>\n",
              "    <li><a href=\"#\">Courses</a></li>\n",
              "    <li><a href=\"#\">Grades</a></li>\n",
              "    <li><a href=\"#\">Contact</a></li>\n",
              "  </ul>\n",
              "</nav>\n",
              "\n",
              "<main>\n",
              "  <h2>Welcome to the Student Info Portal</h2>\n",
              "  <p>This is a simple homepage. You can add more content here.</p>\n",
              "</main>\n",
              "\n",
              "<footer>\n",
              "  <p>&copy; 2023 Student Info Portal</p>\n",
              "</footer>\n",
              "\n",
              "</body>\n",
              "</html>\n"
            ]
          },
          "metadata": {}
        }
      ]
    },
    {
      "cell_type": "markdown",
      "source": [
        "Explaination:HTML Content: This is the structure of a simple web page for a \"Student Info Portal.\" It includes:\n",
        "A basic HTML5 document structure (<!DOCTYPE html>, <html>, <head>, <body>).\n",
        "A <head> section with a <title> for the browser tab.\n",
        "A <body> section containing the visible content:\n",
        "A <header> with an <h1> for the portal title.\n",
        "A <nav> (navigation) section with an unordered list (<ul>) of links (<li><a>) for different pages (Home, Dashboard, Courses, Grades, Contact).\n",
        "A <main> section for the main content of the page, including an <h2> heading and a paragraph (<p>).\n",
        "A <footer> with a copyright notice.\n",
        "Python Code: This part uses the IPython.display module to render the HTML content directly within the Colab notebook output.\n",
        "from IPython.display import HTML: Imports the HTML class from the IPython.display module.\n",
        "display(HTML(html_content)): Creates an HTML object with the html_content string and then uses the display() function to render this HTML in the notebook output."
      ],
      "metadata": {
        "id": "6gIDHf9uDEtt"
      }
    },
    {
      "cell_type": "markdown",
      "source": [
        "Task2:Use AI to add CSS styling to Task #1 homepage for: • Responsive navigation bar. • Centered content section. • Footer with light gray background"
      ],
      "metadata": {
        "id": "nzqJtfR4CAoO"
      }
    },
    {
      "cell_type": "markdown",
      "source": [
        "Prompt:add css styling to the  code:\n",
        "html_content = \"\"\"\n",
        "<!DOCTYPE html>\n",
        "<html>\n",
        "<head>\n",
        "<title>Student Info Portal</title>\n",
        "</head>\n",
        "<body>\n",
        "\n",
        "<header>\n",
        "  <h1>Student Info Portal</h1>\n",
        "</header>\n",
        "\n",
        "<nav>\n",
        "  <ul>\n",
        "    <li><a href=\"#\">Home</a></li>\n",
        "    <li><a href=\"#\">Dashboard</a></li>\n",
        "    <li><a href=\"#\">Courses</a></li>\n",
        "    <li><a href=\"#\">Grades</a></li>\n",
        "    <li><a href=\"#\">Contact</a></li>\n",
        "  </ul>\n",
        "</nav>\n",
        "\n",
        "<main>\n",
        "  <h2>Welcome to the Student Info Portal</h2>\n",
        "  <p>This is a simple homepage. You can add more content here.</p>\n",
        "</main>\n",
        "\n",
        "<footer>\n",
        "  <p>&copy; 2023 Student Info Portal</p>\n",
        "</footer>\n",
        "\n",
        "</body>\n",
        "</html>\n",
        "\"\"\"\n",
        "\n",
        "from IPython.display import HTML\n",
        "display(HTML(html_content))\n"
      ],
      "metadata": {
        "id": "gkbd2HGd9EOl"
      }
    },
    {
      "cell_type": "code",
      "source": [
        "html_content = \"\"\"\n",
        "<!DOCTYPE html>\n",
        "<html>\n",
        "<head>\n",
        "<title>Student Info Portal</title>\n",
        "<style>\n",
        "  body { font-family: Arial, sans-serif; margin: 0; }\n",
        "  header { background-color: #f2f2f2; padding: 10px; text-align: center; }\n",
        "  nav ul { list-style-type: none; margin: 0; padding: 0; overflow: hidden; background-color: #333; }\n",
        "  nav li { float: left; }\n",
        "  nav li a { display: block; color: white; text-align: center; padding: 14px 16px; text-decoration: none; }\n",
        "  nav li a:hover { background-color: #111; }\n",
        "  main { padding: 20px; }\n",
        "  footer { background-color: #f2f2f2; padding: 10px; text-align: center; position: fixed; bottom: 0; width: 100%; }\n",
        "</style>\n",
        "</head>\n",
        "<body>\n",
        "\n",
        "<header>\n",
        "  <h1>Student Info Portal</h1>\n",
        "</header>\n",
        "\n",
        "<nav>\n",
        "  <ul>\n",
        "    <li><a href=\"#\">Home</a></li>\n",
        "    <li><a href=\"#\">Dashboard</a></li>\n",
        "    <li><a href=\"#\">Courses</a></li>\n",
        "    <li><a href=\"#\">Grades</a></li>\n",
        "    <li><a href=\"#\">Contact</a></li>\n",
        "  </ul>\n",
        "</nav>\n",
        "\n",
        "<main style=\"padding-bottom: 50px;\">\n",
        "  <h2>Welcome to the Student Info Portal</h2>\n",
        "  <p>This is a simple homepage. You can add more content here.</p>\n",
        "</main>\n",
        "\n",
        "<footer>\n",
        "  <p>&copy; 2023 Student Info Portal</p>\n",
        "</footer>\n",
        "\n",
        "</body>\n",
        "</html>\n",
        "\"\"\"\n",
        "\n",
        "from IPython.display import HTML\n",
        "display(HTML(html_content))"
      ],
      "metadata": {
        "colab": {
          "base_uri": "https://localhost:8080/",
          "height": 283
        },
        "id": "KLCe2Il_9Nrq",
        "outputId": "96d84ee6-c6c1-424d-957c-e22de9c8a08f"
      },
      "execution_count": null,
      "outputs": [
        {
          "output_type": "display_data",
          "data": {
            "text/plain": [
              "<IPython.core.display.HTML object>"
            ],
            "text/html": [
              "\n",
              "<!DOCTYPE html>\n",
              "<html>\n",
              "<head>\n",
              "<title>Student Info Portal</title>\n",
              "<style>\n",
              "  body { font-family: Arial, sans-serif; margin: 0; }\n",
              "  header { background-color: #f2f2f2; padding: 10px; text-align: center; }\n",
              "  nav ul { list-style-type: none; margin: 0; padding: 0; overflow: hidden; background-color: #333; }\n",
              "  nav li { float: left; }\n",
              "  nav li a { display: block; color: white; text-align: center; padding: 14px 16px; text-decoration: none; }\n",
              "  nav li a:hover { background-color: #111; }\n",
              "  main { padding: 20px; }\n",
              "  footer { background-color: #f2f2f2; padding: 10px; text-align: center; position: fixed; bottom: 0; width: 100%; }\n",
              "</style>\n",
              "</head>\n",
              "<body>\n",
              "\n",
              "<header>\n",
              "  <h1>Student Info Portal</h1>\n",
              "</header>\n",
              "\n",
              "<nav>\n",
              "  <ul>\n",
              "    <li><a href=\"#\">Home</a></li>\n",
              "    <li><a href=\"#\">Dashboard</a></li>\n",
              "    <li><a href=\"#\">Courses</a></li>\n",
              "    <li><a href=\"#\">Grades</a></li>\n",
              "    <li><a href=\"#\">Contact</a></li>\n",
              "  </ul>\n",
              "</nav>\n",
              "\n",
              "<main style=\"padding-bottom: 50px;\">\n",
              "  <h2>Welcome to the Student Info Portal</h2>\n",
              "  <p>This is a simple homepage. You can add more content here.</p>\n",
              "</main>\n",
              "\n",
              "<footer>\n",
              "  <p>&copy; 2023 Student Info Portal</p>\n",
              "</footer>\n",
              "\n",
              "</body>\n",
              "</html>\n"
            ]
          },
          "metadata": {}
        }
      ]
    },
    {
      "cell_type": "markdown",
      "source": [
        "Explaination:HTML Content with CSS: This defines the structure of the \"Student Info Portal\" homepage, similar to the previous version, but now includes a <style> tag within the <head> section. This <style> tag contains CSS (Cascading Style Sheets) rules that control the appearance of the HTML elements. The CSS rules are defining:\n",
        "Basic body styling (font, margins).\n",
        "Header styling (background color, padding, text alignment).\n",
        "Navigation bar styling (removing list bullets, background color, floating list items for a horizontal layout, styling the links).\n",
        "Main content styling (padding).\n",
        "Footer styling (background color, padding, text alignment, fixed position at the bottom of the page).\n",
        "Python Code: This part is the same as before, using the IPython.display module to render the HTML content (which now includes the styling) directly within the Colab notebook output.\n",
        "from IPython.display import HTML: Imports the HTML class.\n",
        "display(HTML(html_content)): Creates an HTML object with the styled HTML content and displays it."
      ],
      "metadata": {
        "id": "WV20uiFrDNpV"
      }
    },
    {
      "cell_type": "markdown",
      "source": [
        "Task3: Prompt AI to generate a JS script that validates a simple login\n",
        "form (non-empty username/password)"
      ],
      "metadata": {
        "id": "bK8H0mn2-Zwh"
      }
    },
    {
      "cell_type": "markdown",
      "source": [
        "Prompt:generate a js script that validates a simple login form (non-empty username/password)"
      ],
      "metadata": {
        "id": "OF0hHzMj_CXu"
      }
    },
    {
      "cell_type": "code",
      "source": [
        "html_content = \"\"\"\n",
        "<!DOCTYPE html>\n",
        "<html>\n",
        "<head>\n",
        "<title>Login Form Validation</title>\n",
        "<style>\n",
        "  .error { color: red; }\n",
        "</style>\n",
        "</head>\n",
        "<body>\n",
        "\n",
        "<h2>Login</h2>\n",
        "\n",
        "<form id=\"loginForm\" onsubmit=\"return validateForm()\">\n",
        "  <div>\n",
        "    <label for=\"username\">Username:</label>\n",
        "    <input type=\"text\" id=\"username\" name=\"username\">\n",
        "    <span id=\"usernameError\" class=\"error\"></span>\n",
        "  </div>\n",
        "  <br>\n",
        "  <div>\n",
        "    <label for=\"password\">Password:</label>\n",
        "    <input type=\"password\" id=\"password\" name=\"password\">\n",
        "    <span id=\"passwordError\" class=\"error\"></span>\n",
        "  </div>\n",
        "  <br>\n",
        "  <button type=\"submit\">Login</button>\n",
        "</form>\n",
        "\n",
        "<script>\n",
        "function validateForm() {\n",
        "  let username = document.getElementById(\"username\").value;\n",
        "  let password = document.getElementById(\"password\").value;\n",
        "  let usernameError = document.getElementById(\"usernameError\");\n",
        "  let passwordError = document.getElementById(\"passwordError\");\n",
        "  let isValid = true;\n",
        "\n",
        "  usernameError.textContent = \"\"; // Clear previous error message\n",
        "  passwordError.textContent = \"\"; // Clear previous error message\n",
        "\n",
        "  if (username == \"\") {\n",
        "    usernameError.textContent = \"Username must be filled out\";\n",
        "    isValid = false;\n",
        "  }\n",
        "  if (password == \"\") {\n",
        "    passwordError.textContent = \"Password must be filled out\";\n",
        "    isValid = false;\n",
        "  }\n",
        "  return isValid; // Prevent form submission if not valid\n",
        "}\n",
        "</script>\n",
        "\n",
        "</body>\n",
        "</html>\n",
        "\"\"\"\n",
        "\n",
        "from IPython.display import HTML\n",
        "display(HTML(html_content))"
      ],
      "metadata": {
        "colab": {
          "base_uri": "https://localhost:8080/",
          "height": 158
        },
        "id": "iTtWFFri_XGC",
        "outputId": "2c68bac7-7eda-4370-b192-2aeab6baf635"
      },
      "execution_count": null,
      "outputs": [
        {
          "output_type": "display_data",
          "data": {
            "text/plain": [
              "<IPython.core.display.HTML object>"
            ],
            "text/html": [
              "\n",
              "<!DOCTYPE html>\n",
              "<html>\n",
              "<head>\n",
              "<title>Login Form Validation</title>\n",
              "<style>\n",
              "  .error { color: red; }\n",
              "</style>\n",
              "</head>\n",
              "<body>\n",
              "\n",
              "<h2>Login</h2>\n",
              "\n",
              "<form id=\"loginForm\" onsubmit=\"return validateForm()\">\n",
              "  <div>\n",
              "    <label for=\"username\">Username:</label>\n",
              "    <input type=\"text\" id=\"username\" name=\"username\">\n",
              "    <span id=\"usernameError\" class=\"error\"></span>\n",
              "  </div>\n",
              "  <br>\n",
              "  <div>\n",
              "    <label for=\"password\">Password:</label>\n",
              "    <input type=\"password\" id=\"password\" name=\"password\">\n",
              "    <span id=\"passwordError\" class=\"error\"></span>\n",
              "  </div>\n",
              "  <br>\n",
              "  <button type=\"submit\">Login</button>\n",
              "</form>\n",
              "\n",
              "<script>\n",
              "function validateForm() {\n",
              "  let username = document.getElementById(\"username\").value;\n",
              "  let password = document.getElementById(\"password\").value;\n",
              "  let usernameError = document.getElementById(\"usernameError\");\n",
              "  let passwordError = document.getElementById(\"passwordError\");\n",
              "  let isValid = true;\n",
              "\n",
              "  usernameError.textContent = \"\"; // Clear previous error message\n",
              "  passwordError.textContent = \"\"; // Clear previous error message\n",
              "\n",
              "  if (username == \"\") {\n",
              "    usernameError.textContent = \"Username must be filled out\";\n",
              "    isValid = false;\n",
              "  }\n",
              "  if (password == \"\") {\n",
              "    passwordError.textContent = \"Password must be filled out\";\n",
              "    isValid = false;\n",
              "  }\n",
              "  return isValid; // Prevent form submission if not valid\n",
              "}\n",
              "</script>\n",
              "\n",
              "</body>\n",
              "</html>\n"
            ]
          },
          "metadata": {}
        }
      ]
    },
    {
      "cell_type": "markdown",
      "source": [
        "Explaination:HTML Content: This defines a simple HTML page with a title and a heading. The main part is a <form> with the ID \"loginForm\".\n",
        "It has two input fields: one for \"Username\" (type=\"text\") and one for \"Password\" (type=\"password\"). Each input has an associated <label>.\n",
        "Next to each input field, there's a <span> element with a class \"error\" and unique IDs (usernameError, passwordError). These spans are initially empty and will be used to display error messages if validation fails.\n",
        "There is a submit button (<button type=\"submit\">).\n",
        "The form has an onsubmit=\"return validateForm()\" attribute, which means that when the form is submitted, the validateForm() JavaScript function will be called. If this function returns false, the form submission will be prevented.\n",
        "CSS Styling: Inside the <style> tags, there's a simple CSS rule:\n",
        ".error { color: red; }: This styles any element with the class \"error\" (our span elements) to have red text, making the error messages stand out.\n",
        "JavaScript Script: This is the core of the validation logic, enclosed in <script> tags.\n",
        "function validateForm() { ... }: This defines the function that is called when the form is submitted.\n",
        "It gets the values entered in the username and password input fields using document.getElementById().value.\n",
        "It gets the <span> elements where error messages will be displayed.\n",
        "It initializes a flag isValid to true.\n",
        "It clears any previously displayed error messages.\n",
        "It checks if the username or password variables are empty strings (\"\").\n",
        "If a field is empty, it sets the textContent of the corresponding error span to an error message and sets isValid to false.\n",
        "Finally, it returns the value of isValid. If isValid is false, the onsubmit attribute on the form will prevent the form from actually submitting.\n",
        "Python Code: This part is for displaying the HTML content in the Colab notebook.\n",
        "from IPython.display import HTML: Imports the HTML class.\n",
        "display(HTML(html_content)): Creates an HTML object with the HTML content (including the form, CSS, and JavaScript) and renders it in the notebook output."
      ],
      "metadata": {
        "id": "wQP7sPNIDVuk"
      }
    },
    {
      "cell_type": "markdown",
      "source": [
        "Task4: Ask AI to generate a Flask app that serves the HTML form (Task\n",
        "#3) and prints the username on successful login."
      ],
      "metadata": {
        "id": "KB1U7WKY_0vg"
      }
    },
    {
      "cell_type": "markdown",
      "source": [
        "Prompt:Generate a Flask app that serves an HTML login form (with username and password). On form submission, if login is successful, display “Welcome, [username]!”; otherwise, show “Invalid username or password.” Include all necessary routes and HTML templates in the code.\n"
      ],
      "metadata": {
        "id": "DQn0_F6P_6c2"
      }
    },
    {
      "cell_type": "code",
      "source": [
        "# Install Flask\n",
        "!pip install Flask\n",
        "\n",
        "# Create the Flask app\n",
        "from flask import Flask, request, render_template_string\n",
        "\n",
        "app = Flask(__name__)\n",
        "\n",
        "# HTML for the login form\n",
        "login_form_html = \"\"\"\n",
        "<!doctype html>\n",
        "<html>\n",
        "<head><title>Login</title></head>\n",
        "<body>\n",
        "  <h2>Login</h2>\n",
        "  <form method=\"post\" action=\"/login\">\n",
        "    Username: <input type=\"text\" name=\"username\"><br>\n",
        "    Password: <input type=\"password\" name=\"password\"><br>\n",
        "    <input type=\"submit\" value=\"Login\">\n",
        "  </form>\n",
        "</body>\n",
        "</html>\n",
        "\"\"\"\n",
        "\n",
        "# HTML for the welcome page\n",
        "welcome_html = \"\"\"\n",
        "<!doctype html>\n",
        "<html>\n",
        "<head><title>Welcome</title></head>\n",
        "<body>\n",
        "  <h2>Welcome, {{ username }}!</h2>\n",
        "</body>\n",
        "</html>\n",
        "\"\"\"\n",
        "\n",
        "# HTML for the invalid login page\n",
        "invalid_html = \"\"\"\n",
        "<!doctype html>\n",
        "<html>\n",
        "<head><title>Invalid Login</title></head>\n",
        "<body>\n",
        "  <h2>Invalid username or password.</h2>\n",
        "  <p><a href=\"/\">Try again</a></p>\n",
        "</body>\n",
        "</html>\n",
        "\"\"\"\n",
        "\n",
        "# Route for the login page\n",
        "@app.route('/')\n",
        "def index():\n",
        "  return render_template_string(login_form_html)\n",
        "\n",
        "# Route to handle login submission\n",
        "@app.route('/login', methods=['POST'])\n",
        "def login():\n",
        "  username = request.form['username']\n",
        "  password = request.form['password']\n",
        "\n",
        "  # Simple validation (replace with your actual authentication logic)\n",
        "  if username == 'student' and password == 'password123':\n",
        "    return render_template_string(welcome_html, username=username)\n",
        "  else:\n",
        "    return render_template_string(invalid_html)\n",
        "\n",
        "# To run the Flask app in Colab, you need to use a tool like ngrok\n",
        "# to expose the local server to the internet.\n",
        "# Alternatively, you can run this code in a local environment.\n",
        "\n",
        "# For running in Colab:\n",
        "# from flask_ngrok import run_with_ngrok\n",
        "# run_with_ngrok(app) # Start ngrok when app is run\n",
        "\n",
        "# if __name__ == '__main__':\n",
        "#   # For running locally:\n",
        "#   # app.run(debug=True)\n",
        "#   # For running in Colab (with ngrok):\n",
        "#   app.run() # When using run_with_ngrok, just call app.run()"
      ],
      "metadata": {
        "colab": {
          "base_uri": "https://localhost:8080/"
        },
        "id": "F5YjAi1WCrFK",
        "outputId": "599d62b3-5044-4aae-c5b9-a81ac27c2210"
      },
      "execution_count": null,
      "outputs": [
        {
          "output_type": "stream",
          "name": "stdout",
          "text": [
            "Requirement already satisfied: Flask in /usr/local/lib/python3.12/dist-packages (3.1.2)\n",
            "Requirement already satisfied: blinker>=1.9.0 in /usr/local/lib/python3.12/dist-packages (from Flask) (1.9.0)\n",
            "Requirement already satisfied: click>=8.1.3 in /usr/local/lib/python3.12/dist-packages (from Flask) (8.3.0)\n",
            "Requirement already satisfied: itsdangerous>=2.2.0 in /usr/local/lib/python3.12/dist-packages (from Flask) (2.2.0)\n",
            "Requirement already satisfied: jinja2>=3.1.2 in /usr/local/lib/python3.12/dist-packages (from Flask) (3.1.6)\n",
            "Requirement already satisfied: markupsafe>=2.1.1 in /usr/local/lib/python3.12/dist-packages (from Flask) (3.0.3)\n",
            "Requirement already satisfied: werkzeug>=3.1.0 in /usr/local/lib/python3.12/dist-packages (from Flask) (3.1.3)\n"
          ]
        }
      ]
    },
    {
      "cell_type": "code",
      "metadata": {
        "id": "7d1bf30e"
      },
      "source": [
        "# Note: To run the Flask app in Colab, you will need to install flask-ngrok\n",
        "# and uncomment the lines related to ngrok in the previous cell.\n",
        "# You can install flask-ngrok with:\n",
        "# !pip install flask-ngrok"
      ],
      "execution_count": null,
      "outputs": []
    },
    {
      "cell_type": "markdown",
      "source": [
        "Explaination:Flask Installation: The line !pip install Flask installs the Flask library, which is a lightweight web framework for Python.\n",
        "Flask App Setup:\n",
        "from flask import Flask, request, render_template_string: Imports necessary components from Flask. Flask is the main class, request handles incoming request data, and render_template_string allows rendering HTML directly from a string.\n",
        "app = Flask(__name__): Creates a Flask application instance.\n",
        "HTML Templates: The code defines three HTML templates as multi-line strings:\n",
        "login_form_html: This is the HTML for the basic login form with fields for username and password and a submit button. The form's method is set to \"post\" and the action is set to \"/login\", meaning the form data will be sent to the /login route using the HTTP POST method.\n",
        "welcome_html: This is the HTML displayed on successful login. It includes a placeholder {{ username }} which will be replaced with the actual username when the template is rendered.\n",
        "invalid_html: This is the HTML displayed when the login fails. It includes a link back to the root page (/) to allow the user to try again.\n",
        "Routes:\n",
        "@app.route('/'): This decorator defines a route for the root URL (/). When a user accesses the root URL, the index() function is executed.\n",
        "def index(): return render_template_string(login_form_html): This function renders and returns the login_form_html string, displaying the login form to the user.\n",
        "@app.route('/login', methods=['POST']): This decorator defines a route for the /login URL, but it only responds to HTTP POST requests (which is what the login form sends). When a POST request is made to /login, the login() function is executed.\n",
        "def login(): ...: This function handles the login logic:\n",
        "username = request.form['username']: Retrieves the value entered in the \"username\" field from the submitted form data.\n",
        "password = request.form['password']: Retrieves the value entered in the \"password\" field.\n",
        "The if username == 'student' and password == 'password123': block contains a simple, hardcoded check for username and password. In a real application, you would replace this with secure authentication logic (e.g., checking against a database).\n",
        "If the credentials match, render_template_string(welcome_html, username=username) is called, rendering the welcome_html and passing the username variable to it.\n",
        "If the credentials don't match, render_template_string(invalid_html) is called, displaying the invalid login message.\n",
        "Running the App: The commented-out section at the bottom shows how to run the Flask app.\n",
        "For running in Colab, it mentions using flask-ngrok to expose the local server to the internet.\n",
        "For running locally, app.run(debug=True) would start the development server."
      ],
      "metadata": {
        "id": "oJ6YfxuHDf95"
      }
    }
  ]
}