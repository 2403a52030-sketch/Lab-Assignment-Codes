{
  "nbformat": 4,
  "nbformat_minor": 0,
  "metadata": {
    "colab": {
      "provenance": [],
      "authorship_tag": "ABX9TyOloy0yG7lQ6Q1Vki+WnSaC",
      "include_colab_link": true
    },
    "kernelspec": {
      "name": "python3",
      "display_name": "Python 3"
    },
    "language_info": {
      "name": "python"
    }
  },
  "cells": [
    {
      "cell_type": "markdown",
      "metadata": {
        "id": "view-in-github",
        "colab_type": "text"
      },
      "source": [
        "<a href=\"https://colab.research.google.com/github/2403a52030-sketch/Lab-Assignment-Codes/blob/main/lab_8_2.ipynb\" target=\"_parent\"><img src=\"https://colab.research.google.com/assets/colab-badge.svg\" alt=\"Open In Colab\"/></a>"
      ]
    },
    {
      "cell_type": "markdown",
      "source": [
        "**Task-01**:\n",
        "\n",
        "Use AI to generate test cases for a function is_prime(n) and then implement the\n",
        "function.\n",
        "\n",
        "Requirements:\n",
        "\n",
        "• Only integers > 1 can be prime.\n",
        "\n",
        "•\n",
        "Check edge cases: 0, 1, 2, negative numbers, and large primes"
      ],
      "metadata": {
        "id": "nXPlzWockHBj"
      }
    },
    {
      "cell_type": "markdown",
      "source": [
        "**prompt:**\n",
        "\n",
        "Give me a code that generate a python function whether it is a prime number or not give test cases"
      ],
      "metadata": {
        "id": "6H0a6xBTk_3S"
      }
    },
    {
      "cell_type": "code",
      "source": [
        "def is_prime(n):\n",
        "    \"\"\"\n",
        "    Checks if a number is prime.\n",
        "\n",
        "    Args:\n",
        "        n: The number to check.\n",
        "\n",
        "    Returns:\n",
        "        True if the number is prime, False otherwise.\n",
        "    \"\"\"\n",
        "    if n < 2:\n",
        "        return False\n",
        "    for i in range(2, int(n**0.5) + 1):\n",
        "        if n % i == 0:\n",
        "            return False\n",
        "    return True\n",
        "\n",
        "# Test cases based on requirements\n",
        "test_cases = [\n",
        "    (2, True),   # Small prime\n",
        "    (3, True),   # Small prime\n",
        "    (5, True),   # Small prime\n",
        "    (7, True),   # Small prime\n",
        "    (999983, True), # Large prime (example)\n",
        "    (1000003, True), # Large prime (example)\n",
        "    (1, False),  # Small non-prime (edge case)\n",
        "    (4, False),  # Small non-prime\n",
        "    (6, False),  # Small non-prime\n",
        "    (8, False),  # Small non-prime\n",
        "    (100, False), # Large non-prime\n",
        "    (150, False), # Large non-prime\n",
        "]\n",
        "\n",
        "# Run test cases\n",
        "for number, expected in test_cases:\n",
        "    result = is_prime(number)\n",
        "    assert result == expected, f\"Input: {number}, Expected: {expected}, Got: {result}\"\n",
        "    print(f\"Test case {number} passed.\")"
      ],
      "metadata": {
        "colab": {
          "base_uri": "https://localhost:8080/"
        },
        "id": "rRi4oTA_soho",
        "outputId": "a1a477cb-3c0c-4443-eddd-45cb02cba831"
      },
      "execution_count": null,
      "outputs": [
        {
          "output_type": "stream",
          "name": "stdout",
          "text": [
            "Test case 2 passed.\n",
            "Test case 3 passed.\n",
            "Test case 5 passed.\n",
            "Test case 7 passed.\n",
            "Test case 999983 passed.\n",
            "Test case 1000003 passed.\n",
            "Test case 1 passed.\n",
            "Test case 4 passed.\n",
            "Test case 6 passed.\n",
            "Test case 8 passed.\n",
            "Test case 100 passed.\n",
            "Test case 150 passed.\n"
          ]
        }
      ]
    },
    {
      "cell_type": "markdown",
      "source": [
        "**Explanation:**\n",
        "\n",
        "**is_prime(n) function:**\n",
        "This function takes an integer n as input.\n",
        "It first checks if n is less than 2. If it is, the function returns False because numbers less than 2 are not prime.\n",
        "It then iterates through numbers starting from 2 up to the square root of n.\n",
        "In each iteration, it checks if n is divisible by the current number (i). If it is, the function returns False because n has a factor other than 1 and itself, meaning it's not prime.\n",
        "If the loop finishes without finding any divisors, the function returns True, indicating that n is a prime number.\n",
        "\n",
        "**Test cases:**\n",
        "The test_cases list contains pairs of numbers and their expected True or False result from the is_prime function.\n",
        "The code then loops through these test cases, calls the is_prime function with each number, and uses an assert statement to check if the actual result matches the expected result.\n",
        "If the assertion passes, it prints a message indicating that the test case passed. If the assertion fails, it would raise an AssertionError.\n",
        "\n"
      ],
      "metadata": {
        "id": "ym0NspqdsI2e"
      }
    },
    {
      "cell_type": "markdown",
      "source": [
        "**Task-2:**\n",
        "\n",
        "Ask AI to generate test cases for celsius_to_fahrenheit(c) and fahrenheit_to_celsius(f).\n",
        "\n",
        "Requirements\n",
        "\n",
        "• Validate known pairs: 0°C = 32°F, 100°C = 212°F.\n",
        "\n",
        "• Include decimals and invalid inputs like strings or None"
      ],
      "metadata": {
        "id": "ee4JL1aptn3O"
      }
    },
    {
      "cell_type": "markdown",
      "source": [
        "**Prompt:**\n",
        "\n",
        "generate a python function that to convert celsius to fahrenheit and faherenheit to celsius and give test cases like decimals,string,none value"
      ],
      "metadata": {
        "id": "W8UBDtzHyAWE"
      }
    },
    {
      "cell_type": "code",
      "source": [
        "def celsius_to_fahrenheit(celsius):\n",
        "    \"\"\"Converts Celsius to Fahrenheit.\"\"\"\n",
        "    if not isinstance(celsius, (int, float)):\n",
        "        return \"Invalid input: Please provide a number.\"\n",
        "    return (celsius * 9/5) + 32\n",
        "\n",
        "def fahrenheit_to_celsius(fahrenheit):\n",
        "    \"\"\"Converts Fahrenheit to Celsius.\"\"\"\n",
        "    if not isinstance(fahrenheit, (int, float)):\n",
        "        return \"Invalid input: Please provide a number.\"\n",
        "    return (fahrenheit - 32) * 5/9\n",
        "\n",
        "# Test cases\n",
        "test_cases = [\n",
        "    (0, 32, \"C to F\"),    # Known pair\n",
        "    (100, 212, \"C to F\"),  # Known pair\n",
        "    (25.5, 77.9, \"C to F\"), # Decimal\n",
        "    (-10, 14, \"C to F\"),   # Negative\n",
        "    (\"abc\", \"Invalid input: Please provide a number.\", \"C to F - Invalid\"), # String input\n",
        "    (None, \"Invalid input: Please provide a number.\", \"C to F - Invalid\"), # None input\n",
        "\n",
        "    (32, 0, \"F to C\"),    # Known pair\n",
        "    (212, 100, \"F to C\"),  # Known pair\n",
        "    (77.9, 25.5, \"F to C\"), # Decimal\n",
        "    (14, -10, \"F to C\"),   # Negative\n",
        "    (\"xyz\", \"Invalid input: Please provide a number.\", \"F to C - Invalid\"), # String input\n",
        "    (None, \"Invalid input: Please provide a number.\", \"F to C - Invalid\"), # None input\n",
        "]\n",
        "\n",
        "# Run test cases\n",
        "for input_val, expected_output, test_type in test_cases:\n",
        "    if \"C to F\" in test_type:\n",
        "        result = celsius_to_fahrenheit(input_val)\n",
        "        assert result == expected_output, f\"Test Failed ({test_type}): Input: {input_val}, Expected: {expected_output}, Got: {result}\"\n",
        "        print(f\"Test Passed ({test_type}): Input: {input_val}\")\n",
        "    elif \"F to C\" in test_type:\n",
        "        # For float comparisons, consider a tolerance\n",
        "        result = fahrenheit_to_celsius(input_val)\n",
        "        if isinstance(result, float) and isinstance(expected_output, float):\n",
        "             assert abs(result - expected_output) < 1e-9, f\"Test Failed ({test_type}): Input: {input_val}, Expected: {expected_output}, Got: {result}\"\n",
        "        else:\n",
        "            assert result == expected_output, f\"Test Failed ({test_type}): Input: {input_val}, Expected: {expected_output}, Got: {result}\"\n",
        "        print(f\"Test Passed ({test_type}): Input: {input_val}\")"
      ],
      "metadata": {
        "colab": {
          "base_uri": "https://localhost:8080/"
        },
        "id": "ALBW3ymIyC0l",
        "outputId": "af3b8403-9569-4fa6-88dc-826ce0634e84"
      },
      "execution_count": 14,
      "outputs": [
        {
          "output_type": "stream",
          "name": "stdout",
          "text": [
            "Test Passed (C to F): Input: 0\n",
            "Test Passed (C to F): Input: 100\n",
            "Test Passed (C to F): Input: 25.5\n",
            "Test Passed (C to F): Input: -10\n",
            "Test Passed (C to F - Invalid): Input: abc\n",
            "Test Passed (C to F - Invalid): Input: None\n",
            "Test Passed (F to C): Input: 32\n",
            "Test Passed (F to C): Input: 212\n",
            "Test Passed (F to C): Input: 77.9\n",
            "Test Passed (F to C): Input: 14\n",
            "Test Passed (F to C - Invalid): Input: xyz\n",
            "Test Passed (F to C - Invalid): Input: None\n"
          ]
        }
      ]
    },
    {
      "cell_type": "markdown",
      "source": [
        "**Explanation:**\n",
        "\n",
        "**celsius_to_fahrenheit(celsius) function:**\n",
        "\n",
        "Takes a celsius value as input.\n",
        "Includes input validation to ensure the input is an integer or a float. If not, it returns an \"Invalid input\" message.\n",
        "Applies the formula (celsius * 9/5) + 32 to convert Celsius to Fahrenheit.\n",
        "Returns the calculated Fahrenheit value or the error message.\n",
        "\n",
        "**fahrenheit_to_celsius(fahrenheit) function:**\n",
        "\n",
        "Takes a fahrenheit value as input.\n",
        "Includes input validation similar to the celsius_to_fahrenheit function.\n",
        "Applies the formula (fahrenheit - 32) * 5/9 to convert Fahrenheit to Celsius.\n",
        "Returns the calculated Celsius value or the error message.\n",
        "\n",
        "**Test cases:**\n",
        "\n",
        "The test_cases list contains tuples, each representing a test case.\n",
        "Each tuple includes the input value, the expected output, and a string indicating the test type (\"C to F\" or \"F to C\").\n",
        "The code iterates through the test_cases.\n",
        "For each test case, it calls the appropriate conversion function (celsius_to_fahrenheit or fahrenheit_to_celsius).\n",
        "It uses an assert statement to compare the function's result with the expected_output.\n",
        "For floating-point comparisons in Fahrenheit to Celsius conversions, it uses a tolerance (1e-9) to account for potential floating-point inaccuracies.\n",
        "If the assertion passes, it prints a \"Test Passed\" message. If it fails, it raises an AssertionError with details about the failed test"
      ],
      "metadata": {
        "id": "Nz1H9_bgywOd"
      }
    },
    {
      "cell_type": "markdown",
      "source": [
        "**Task-3:**\n",
        "\n",
        "Use AI to write test cases for a function count_words(text) that returns the number of\n",
        "words in a sentence.\n",
        "\n",
        "Requirement\n",
        "\n",
        "Handle normal text, multiple spaces, punctuation, and empty strings"
      ],
      "metadata": {
        "id": "LYO4UW0lzD8N"
      }
    },
    {
      "cell_type": "markdown",
      "source": [
        "**Prompt:**\n",
        "\n",
        "generate test cases for a function count_words(text) that returns the number of words in a sentence.it should handle normal texts ,multiple spaces and empty strings"
      ],
      "metadata": {
        "id": "FBZlbi57zbMY"
      }
    },
    {
      "cell_type": "code",
      "source": [
        "def count_words(text):\n",
        "    \"\"\"\n",
        "    Counts the number of words in a sentence.\n",
        "\n",
        "    Args:\n",
        "        text: The input string.\n",
        "\n",
        "    Returns:\n",
        "        The number of words in the string.\n",
        "    \"\"\"\n",
        "    if not text or text.isspace():\n",
        "        return 0\n",
        "    words = text.split()\n",
        "    return len(words)\n",
        "\n",
        "# Test cases\n",
        "test_cases = [\n",
        "    (\"Hello world\", 2),  # Normal text\n",
        "    (\"  This has   multiple   spaces \", 4), # Multiple spaces\n",
        "    (\"\", 0),  # Empty string\n",
        "    (\"   \", 0), # String with only spaces\n",
        "    (\"SingleWord\", 1), # Single word\n",
        "    (\"  Leading and trailing spaces  \", 4) # Leading and trailing spaces\n",
        "]\n",
        "\n",
        "# Run test cases\n",
        "for text, expected in test_cases:\n",
        "    result = count_words(text)\n",
        "    assert result == expected, f\"Input: '{text}', Expected: {expected}, Got: {result}\"\n",
        "    print(f\"Test case passed for input: '{text}'\")"
      ],
      "metadata": {
        "colab": {
          "base_uri": "https://localhost:8080/"
        },
        "id": "pB8ULVzf0KCl",
        "outputId": "39b8e97c-3873-441e-8e7a-7aa458cbfb96"
      },
      "execution_count": 17,
      "outputs": [
        {
          "output_type": "stream",
          "name": "stdout",
          "text": [
            "Test case passed for input: 'Hello world'\n",
            "Test case passed for input: '  This has   multiple   spaces '\n",
            "Test case passed for input: ''\n",
            "Test case passed for input: '   '\n",
            "Test case passed for input: 'SingleWord'\n",
            "Test case passed for input: '  Leading and trailing spaces  '\n"
          ]
        }
      ]
    },
    {
      "cell_type": "markdown",
      "source": [
        "**count_words(text) function:**\n",
        "\n",
        "Takes a string text as input.\n",
        "First, it checks if the input text is empty or contains only whitespace characters using not text or text.isspace(). If either is true, it returns 0 because there are no words.\n",
        "If the input is not empty or just whitespace, it splits the string into a list of words using text.split(). By default, split() splits on any whitespace and discards empty strings resulting from the split, effectively handling multiple spaces between words and leading/trailing spaces.\n",
        "Finally, it returns the number of elements in the resulting list of words using len(words).\n",
        "\n",
        "**Test cases:**\n",
        "\n",
        "The test_cases list contains tuples, where each tuple is a pair of input string and the expected number of words.\n",
        "The test cases cover various scenarios: normal text, multiple spaces between words, empty strings, strings with only spaces, and a single word string.\n",
        "The code iterates through the test_cases.\n",
        "For each test case, it calls the count_words function with the input string.\n",
        "It uses an assert statement to check if the actual result from the function matches the expected number of words.\n",
        "If the assertion passes, it prints a message indicating that the test case passed for the given input. If the assertion fails, it raises an AssertionError.\n"
      ],
      "metadata": {
        "id": "VUZqI_wj0zhZ"
      }
    },
    {
      "cell_type": "markdown",
      "source": [
        "**Task-4:**\n",
        "\n",
        "Generate test cases for a BankAccount class with:\n",
        "\n",
        "**Methods:**\n",
        "\n",
        "deposit(amount)\n",
        "\n",
        "withdraw(amount)\n",
        "\n",
        "check_balance()\n",
        "\n",
        "**Requirements:**\n",
        "\n",
        "• Negative deposits/withdrawals should raise an error.\n",
        "\n",
        "• Cannot withdraw more than balance"
      ],
      "metadata": {
        "id": "DxQ93iAA09B8"
      }
    },
    {
      "cell_type": "markdown",
      "source": [
        "**prompt:**\n",
        "\n",
        "generate test cases for a BankAccount class with methods deposit(amount) withdraw(amount) check_balance() ,it should raise an error if there are negative deposits and widrawals ,and it cannot withdraw more than balance"
      ],
      "metadata": {
        "id": "vwyKf_VD1V8k"
      }
    },
    {
      "cell_type": "code",
      "source": [
        "class BankAccount:\n",
        "    \"\"\"\n",
        "    A simple bank account class.\n",
        "    \"\"\"\n",
        "    def _init_(self, initial_balance=0):\n",
        "        if initial_balance < 0:\n",
        "            raise ValueError(\"Initial balance cannot be negative.\")\n",
        "        self.balance = initial_balance\n",
        "\n",
        "    def deposit(self, amount):\n",
        "        \"\"\"Deposits money into the account.\"\"\"\n",
        "        if amount < 0:\n",
        "            raise ValueError(\"Deposit amount cannot be negative.\")\n",
        "        self.balance += amount\n",
        "        print(f\"Deposited: {amount}. New balance: {self.balance}\")\n",
        "\n",
        "    def withdraw(self, amount):\n",
        "        \"\"\"Withdraws money from the account.\"\"\"\n",
        "        if amount < 0:\n",
        "            raise ValueError(\"Withdrawal amount cannot be negative.\")\n",
        "        if amount > self.balance:\n",
        "            raise ValueError(\"Insufficient funds.\")\n",
        "        self.balance -= amount\n",
        "        print(f\"Withdrew: {amount}. New balance: {self.balance}\")\n",
        "\n",
        "    def check_balance(self):\n",
        "        \"\"\"Returns the current balance.\"\"\"\n",
        "        return self.balance\n",
        "\n",
        "# Test cases\n",
        "\n",
        "# Test case 1: Initializing with a negative balance (should raise error)\n",
        "try:\n",
        "    account1 = BankAccount(-100)\n",
        "except ValueError as e:\n",
        "    print(f\"Test case 1 passed: {e}\")\n",
        "\n",
        "# Test case 2: Initializing with a valid balance and performing deposit\n",
        "account2 = BankAccount(100)\n",
        "print(f\"\\nTest case 2: Initial balance: {account2.check_balance()}\")\n",
        "account2.deposit(50)\n",
        "assert account2.check_balance() == 150, f\"Test case 2 failed: Expected 150, Got {account2.check_balance()}\"\n",
        "print(f\"Test case 2 passed: New balance: {account2.check_balance()}\")\n",
        "\n",
        "# Test case 3: Performing a valid withdrawal\n",
        "account3 = BankAccount(200)\n",
        "print(f\"\\nTest case 3: Initial balance: {account3.check_balance()}\")\n",
        "account3.withdraw(50)\n",
        "assert account3.check_balance() == 150, f\"Test case 3 failed: Expected 150, Got {account3.check_balance()}\"\n",
        "print(f\"Test case 3 passed: New balance: {account3.check_balance()}\")\n",
        "\n",
        "# Test case 4: Attempting to deposit a negative amount (should raise error)\n",
        "account4 = BankAccount(100)\n",
        "print(f\"\\nTest case 4: Initial balance: {account4.check_balance()}\")\n",
        "try:\n",
        "    account4.deposit(-50)\n",
        "except ValueError as e:\n",
        "    print(f\"Test case 4 passed: {e}\")\n",
        "assert account4.check_balance() == 100, f\"Test case 4 failed: Balance changed unexpectedly: {account4.check_balance()}\"\n",
        "\n",
        "\n",
        "# Test case 5: Attempting to withdraw a negative amount (should raise error)\n",
        "account5 = BankAccount(100)\n",
        "print(f\"\\nTest case 5: Initial balance: {account5.check_balance()}\")\n",
        "try:\n",
        "    account5.withdraw(-50)\n",
        "except ValueError as e:\n",
        "    print(f\"Test case 5 passed: {e}\")\n",
        "assert account5.check_balance() == 100, f\"Test case 5 failed: Balance changed unexpectedly: {account5.check_balance()}\"\n",
        "\n",
        "\n",
        "# Test case 6: Attempting to withdraw more than the balance (should raise error)\n",
        "account6 = BankAccount(100)\n",
        "print(f\"\\nTest case 6: Initial balance: {account6.check_balance()}\")\n",
        "try:\n",
        "    account6.withdraw(150)\n",
        "except ValueError as e:\n",
        "    print(f\"Test case 6 passed: {e}\")\n",
        "assert account6.check_balance() == 100, f\"Test case 6 failed: Balance changed unexpectedly: {account6.check_balance()}\"\n",
        "\n",
        "# Test case 7: Checking balance\n",
        "account7 = BankAccount(500)\n",
        "print(f\"\\nTest case 7: Initial balance: {account7.check_balance()}\")\n",
        "assert account7.check_balance() == 500, f\"Test case 7 failed: Expected 500, Got {account7.check_balance()}\"\n",
        "print(f\"Test case 7 passed: Balance: {account7.check_balance()}\")"
      ],
      "metadata": {
        "id": "3nkIojd51tUS"
      },
      "execution_count": null,
      "outputs": []
    },
    {
      "cell_type": "markdown",
      "source": [
        "explanation:\n",
        "\n",
        "BankAccount class:\n",
        "\n",
        "__init__(self, initial_balance=0): The constructor initializes the account with an optional initial_balance. It raises a ValueError if the initial balance is negative.\n",
        "deposit(self, amount): This method adds a specified amount to the account balance. It raises a ValueError if the deposit amount is negative.\n",
        "withdraw(self, amount): This method subtracts a specified amount from the account balance. It raises a ValueError if the withdrawal amount is negative or if the withdrawal amount is greater than the current balance (insufficient funds).\n",
        "check_balance(self): This method returns the current balance of the account.\n",
        "Test cases:\n",
        "\n",
        "The code includes several test cases using try...except blocks and assert statements to verify the class's behavior:\n",
        "\n",
        "Test case 1: Checks if initializing with a negative balance raises a ValueError.\n",
        "Test case 2: Tests a valid initial balance and a successful deposit.\n",
        "Test case 3: Tests a successful withdrawal.\n",
        "Test case 4: Checks if depositing a negative amount raises a ValueError.\n",
        "Test case 5: Checks if withdrawing a negative amount raises a ValueError.\n",
        "Test case 6: Checks if attempting to withdraw more than the balance raises a ValueError.\n",
        "Test case 7: Simply checks if the check_balance method returns the correct balance"
      ],
      "metadata": {
        "id": "fRAW_g9o2B7c"
      }
    },
    {
      "cell_type": "markdown",
      "source": [
        "**Task-5:**\n",
        "\n",
        "Generate test cases for is_number_palindrome(num), which checks if an integer reads the same backward.\n",
        "\n",
        "Examples:\n",
        "\n",
        "121 → True\n",
        "123 → False\n",
        "0, negative numbers → handled gracefully"
      ],
      "metadata": {
        "id": "E8RvRtFD2GqR"
      }
    },
    {
      "cell_type": "markdown",
      "source": [
        "**prompt:**\n",
        "\n",
        "generate test cases for function is_number_palindrome(num),which checks if an integer reads same backward ,example:121=True,123=False,0,negative numbers should be handled gracefully"
      ],
      "metadata": {
        "id": "ID_TxGI42Px6"
      }
    },
    {
      "cell_type": "code",
      "source": [
        "def is_number_palindrome(num):\n",
        "    \"\"\"\n",
        "    Checks if an integer is a palindrome.\n",
        "\n",
        "    Args:\n",
        "        num: The integer to check.\n",
        "\n",
        "    Returns:\n",
        "        True if the number is a palindrome, False otherwise.\n",
        "    \"\"\"\n",
        "    # Handle negative numbers and 0 gracefully\n",
        "    if num < 0:\n",
        "        return False  # Negative numbers are not considered palindromes\n",
        "    if num == 0:\n",
        "        return True   # 0 is a palindrome\n",
        "\n",
        "    # Convert the number to a string to easily reverse it\n",
        "    num_str = str(num)\n",
        "    # Check if the string is equal to its reverse\n",
        "    return num_str == num_str[::-1]\n",
        "\n",
        "# Test cases\n",
        "test_cases = [\n",
        "    (121, True),   # Positive palindrome\n",
        "    (123, False),  # Positive non-palindrome\n",
        "    (0, True),     # Zero (handled gracefully)\n",
        "    (-121, False), # Negative number (handled gracefully)\n",
        "    (1221, True),  # Another positive palindrome\n",
        "    (10, False),   # Another positive non-palindrome\n",
        "    (5, True)      # Single digit number\n",
        "]\n",
        "\n",
        "# Run test cases\n",
        "for number, expected in test_cases:\n",
        "    result = is_number_palindrome(number)\n",
        "    assert result == expected, f\"Input: {number}, Expected: {expected}, Got: {result}\"\n",
        "    print(f\"Test case passed for input: {number}\")"
      ],
      "metadata": {
        "colab": {
          "base_uri": "https://localhost:8080/"
        },
        "id": "QR_cYTuI2YSR",
        "outputId": "36252405-e831-4b66-e93f-a85c2e422988"
      },
      "execution_count": 19,
      "outputs": [
        {
          "output_type": "stream",
          "name": "stdout",
          "text": [
            "Test case passed for input: 121\n",
            "Test case passed for input: 123\n",
            "Test case passed for input: 0\n",
            "Test case passed for input: -121\n",
            "Test case passed for input: 1221\n",
            "Test case passed for input: 10\n",
            "Test case passed for input: 5\n"
          ]
        }
      ]
    },
    {
      "cell_type": "markdown",
      "source": [
        "**Examplanation:**\n",
        "\n",
        "**is_number_palindrome(num) function:**\n",
        "\n",
        "Takes an integer num as input.\n",
        "\n",
        "**Handles negative numbers and 0:**\n",
        "\n",
        "If num is less than 0, it immediately returns False because negative numbers are not considered palindromes.\n",
        "If num is 0, it returns True because 0 is considered a palindrome.\n",
        "\n",
        "**Checks for palindrome:**\n",
        "\n",
        "Converts the integer num to a string using str(num).\n",
        "Compares the string with its reverse (num_str[::-1]). The [::-1] slicing creates a reversed copy of the string.\n",
        "If the string is equal to its reverse, it returns True, indicating the number is a palindrome. Otherwise, it returns False.\n",
        "\n",
        "**Test cases:**\n",
        "\n",
        "The test_cases list contains tuples, each with an input number and the expected boolean result (True for a palindrome, False otherwise).\n",
        "The test cases cover various scenarios, including positive palindromes, positive non-palindromes, 0, negative numbers, and single-digit numbers.\n",
        "The code iterates through the test_cases.\n",
        "For each test case, it calls the is_number_palindrome function with the input number.\n",
        "It uses an assert statement to check if the result from the function matches the expected outcome.\n",
        "If the assertion passes, it prints a message confirming the test case passed. If it fails, it raises an AssertionError"
      ],
      "metadata": {
        "id": "PyROGGMe2eiH"
      }
    }
  ]
}
