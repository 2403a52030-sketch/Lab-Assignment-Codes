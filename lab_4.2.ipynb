{
  "nbformat": 4,
  "nbformat_minor": 0,
  "metadata": {
    "colab": {
      "provenance": [],
      "authorship_tag": "ABX9TyNLJw+j8pXpW4EV4x6iobLK",
      "include_colab_link": true
    },
    "kernelspec": {
      "name": "python3",
      "display_name": "Python 3"
    },
    "language_info": {
      "name": "python"
    }
  },
  "cells": [
    {
      "cell_type": "markdown",
      "metadata": {
        "id": "view-in-github",
        "colab_type": "text"
      },
      "source": [
        "<a href=\"https://colab.research.google.com/github/2403a52030-sketch/Lab-Assignment-Codes/blob/main/lab_4_2.ipynb\" target=\"_parent\"><img src=\"https://colab.research.google.com/assets/colab-badge.svg\" alt=\"Open In Colab\"/></a>"
      ]
    },
    {
      "cell_type": "code",
      "execution_count": null,
      "metadata": {
        "id": "Yy_Cg3jWVXeV"
      },
      "outputs": [],
      "source": []
    },
    {
      "cell_type": "markdown",
      "source": [
        "task 01:Write a Python function to generate the Fibonacci sequence up to n terms"
      ],
      "metadata": {
        "id": "dq4f0BevgR-h"
      }
    },
    {
      "cell_type": "code",
      "metadata": {
        "colab": {
          "base_uri": "https://localhost:8080/"
        },
        "id": "595c04a9",
        "outputId": "e85c2eae-cd6f-43cf-fe8f-44df3586369d"
      },
      "source": [
        "def fibonacci_sequence(n):\n",
        "  \"\"\"Generates the Fibonacci sequence up to n terms.\n",
        "\n",
        "  Args:\n",
        "    n: The number of terms to generate.\n",
        "\n",
        "  Returns:\n",
        "    A list containing the Fibonacci sequence up to n terms.\n",
        "  \"\"\"\n",
        "  if n <= 0:\n",
        "    return []\n",
        "  elif n == 1:\n",
        "    return [0]\n",
        "  else:\n",
        "    sequence = [0, 1]\n",
        "    while len(sequence) < n:\n",
        "      next_term = sequence[-1] + sequence[-2]\n",
        "      sequence.append(next_term)\n",
        "    return sequence\n",
        "\n",
        "# Example usage:\n",
        "n_terms = 10\n",
        "fib_sequence = fibonacci_sequence(n_terms)\n",
        "print(f\"Fibonacci sequence up to {n_terms} terms: {fib_sequence}\")"
      ],
      "execution_count": 1,
      "outputs": [
        {
          "output_type": "stream",
          "name": "stdout",
          "text": [
            "Fibonacci sequence up to 10 terms: [0, 1, 1, 2, 3, 5, 8, 13, 21, 34]\n"
          ]
        }
      ]
    },
    {
      "cell_type": "markdown",
      "source": [
        "Task 02:write a python function that converts fahrenheit to celsius,example: Input: 100, Output: 37.78 to help"
      ],
      "metadata": {
        "id": "iLZ1DFkSkK5Y"
      }
    },
    {
      "cell_type": "code",
      "source": [],
      "metadata": {
        "id": "WHo2YsRKk6aC"
      },
      "execution_count": null,
      "outputs": []
    },
    {
      "cell_type": "code",
      "metadata": {
        "colab": {
          "base_uri": "https://localhost:8080/"
        },
        "id": "f6355598",
        "outputId": "ed63f962-279e-456a-fe75-878531e2a434"
      },
      "source": [
        "def fahrenheit_to_celsius(fahrenheit):\n",
        "  \"\"\"Converts Fahrenheit to Celsius.\n",
        "\n",
        "  Args:\n",
        "    fahrenheit: The temperature in Fahrenheit.\n",
        "\n",
        "  Returns:\n",
        "    The temperature in Celsius.\n",
        "  \"\"\"\n",
        "  celsius = (fahrenheit - 32) * 5/9\n",
        "  return celsius\n",
        "\n",
        "# Example usage:\n",
        "fahrenheit_temp = 100\n",
        "celsius_temp = fahrenheit_to_celsius(fahrenheit_temp)\n",
        "print(f\"{fahrenheit_temp} Fahrenheit is equal to {celsius_temp:.2f} Celsius\")"
      ],
      "execution_count": 6,
      "outputs": [
        {
          "output_type": "stream",
          "name": "stdout",
          "text": [
            "100 Fahrenheit is equal to 37.78 Celsius\n"
          ]
        }
      ]
    },
    {
      "cell_type": "markdown",
      "source": [
        "Task 03:Write a Python function that extracts the domain from an email address, take input dynamicaly, Examples: Input: user1@gmail.com, Output: @gmail.com, Input: abc123@yahoo.com, Output: @yahoo.com."
      ],
      "metadata": {
        "id": "NVieNmTilJAW"
      }
    },
    {
      "cell_type": "code",
      "metadata": {
        "colab": {
          "base_uri": "https://localhost:8080/"
        },
        "id": "77ebd3d9",
        "outputId": "11437af4-e660-4a01-8c13-08cdfe252a9c"
      },
      "source": [
        "def extract_domain(email):\n",
        "  \"\"\"Extracts the domain name from an email address.\n",
        "\n",
        "  Args:\n",
        "    email: The email address string.\n",
        "\n",
        "  Returns:\n",
        "    The domain name string, or None if the email format is invalid.\n",
        "  \"\"\"\n",
        "  if \"@\" in email:\n",
        "    return email.split(\"@\")[1]\n",
        "  else:\n",
        "    return None\n",
        "\n",
        "# Get input dynamically from the user\n",
        "user_email = input(\"Enter an email address: \")\n",
        "\n",
        "# Example usage with user input:\n",
        "domain = extract_domain(user_email)\n",
        "\n",
        "if domain:\n",
        "  print(f\"The domain for {user_email} is: @{domain}\") # Added '@' to match the user's desired output format\n",
        "else:\n",
        "  print(f\"Invalid email format for: {user_email}\")"
      ],
      "execution_count": 7,
      "outputs": [
        {
          "output_type": "stream",
          "name": "stdout",
          "text": [
            "Enter an email address: 2403a52030@sru.edu.in\n",
            "The domain for 2403a52030@sru.edu.in is: @sru.edu.in\n"
          ]
        }
      ]
    },
    {
      "cell_type": "markdown",
      "source": [
        "Task 04:Write a function to check if a word is a palindrome, ignoring punctuation and case, take dynamic inputWrite a function to check if a word is a palindrome, ignoring punctuation and case, take dynamic input"
      ],
      "metadata": {
        "id": "fzW78AcxmNDO"
      }
    },
    {
      "cell_type": "code",
      "source": [],
      "metadata": {
        "id": "EI-mIbl3n2hQ"
      },
      "execution_count": null,
      "outputs": []
    },
    {
      "cell_type": "code",
      "metadata": {
        "colab": {
          "base_uri": "https://localhost:8080/"
        },
        "id": "382698a9",
        "outputId": "efbaa72b-5d5f-4c9d-89d7-acc2fc7d7073"
      },
      "source": [
        "import string\n",
        "\n",
        "def is_palindrome(word):\n",
        "  \"\"\"Checks if a word is a palindrome, ignoring punctuation and case.\n",
        "\n",
        "  Args:\n",
        "    word: The input string.\n",
        "\n",
        "  Returns:\n",
        "    True if the word is a palindrome, False otherwise.\n",
        "  \"\"\"\n",
        "  # Remove punctuation and convert to lowercase\n",
        "  cleaned_word = \"\".join(char.lower() for char in word if char not in string.punctuation)\n",
        "\n",
        "  # Check if the cleaned word is equal to its reverse\n",
        "  return cleaned_word == cleaned_word[::-1]\n",
        "\n",
        "# Get dynamic input from the user\n",
        "user_input = input(\"Enter a word or phrase to check if it's a palindrome: \")\n",
        "\n",
        "# Example usage with dynamic input:\n",
        "if is_palindrome(user_input):\n",
        "  print(f\"'{user_input}' is a palindrome.\")\n",
        "else:\n",
        "  print(f\"'{user_input}' is not a palindrome.\")"
      ],
      "execution_count": 8,
      "outputs": [
        {
          "output_type": "stream",
          "name": "stdout",
          "text": [
            "Enter a word or phrase to check if it's a palindrome: 22\n",
            "'22' is a palindrome.\n"
          ]
        }
      ]
    },
    {
      "cell_type": "markdown",
      "source": [
        "Task 05:Generate a function to find the maximum of three numbers without using max().Take numbers dynamically\n",
        "\n",
        "Examples: Input: 10, 5, 8 → Output: 10\n",
        "\n",
        "Input: -2, -10, -1 → Output: -1\n",
        "\n",
        "Input: 4, 9, 9 → Output: 9"
      ],
      "metadata": {
        "id": "JgIINGxkqVvE"
      }
    },
    {
      "cell_type": "code",
      "source": [],
      "metadata": {
        "id": "wMLUY-UbqnQg"
      },
      "execution_count": null,
      "outputs": []
    },
    {
      "cell_type": "code",
      "metadata": {
        "colab": {
          "base_uri": "https://localhost:8080/"
        },
        "id": "1c3af6a3",
        "outputId": "8d1bd039-57a6-42fb-8443-b96457966561"
      },
      "source": [
        "def find_maximum_of_three(num1, num2, num3):\n",
        "  \"\"\"Finds the maximum of three numbers without using the max() function.\n",
        "\n",
        "  Args:\n",
        "    num1: The first number.\n",
        "    num2: The second number.\n",
        "    num3: The third number.\n",
        "\n",
        "  Returns:\n",
        "    The maximum of the three numbers.\n",
        "  \"\"\"\n",
        "  maximum = num1\n",
        "  if num2 > maximum:\n",
        "    maximum = num2\n",
        "  if num3 > maximum:\n",
        "    maximum = num3\n",
        "  return maximum\n",
        "\n",
        "# Get dynamic input from the user\n",
        "try:\n",
        "  input_numbers = input(\"Enter three numbers separated by commas (e.g., 10, 5, 8): \")\n",
        "  num1, num2, num3 = map(float, input_numbers.split(','))\n",
        "\n",
        "  # Find and print the maximum\n",
        "  maximum_number = find_maximum_of_three(num1, num2, num3)\n",
        "  print(f\"The maximum of {num1}, {num2}, and {num3} is: {maximum_number}\")\n",
        "\n",
        "except ValueError:\n",
        "  print(\"Invalid input. Please enter three numbers separated by commas.\")"
      ],
      "execution_count": 10,
      "outputs": [
        {
          "output_type": "stream",
          "name": "stdout",
          "text": [
            "Enter three numbers separated by commas (e.g., 10, 5, 8): 23,54,67\n",
            "The maximum of 23.0, 54.0, and 67.0 is: 67.0\n"
          ]
        }
      ]
    }
  ]
}
