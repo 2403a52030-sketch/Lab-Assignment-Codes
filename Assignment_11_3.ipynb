{
  "nbformat": 4,
  "nbformat_minor": 0,
  "metadata": {
    "colab": {
      "provenance": [],
      "authorship_tag": "ABX9TyOResnAt2hALEhtrFzWVy1D",
      "include_colab_link": true
    },
    "kernelspec": {
      "name": "python3",
      "display_name": "Python 3"
    },
    "language_info": {
      "name": "python"
    }
  },
  "cells": [
    {
      "cell_type": "markdown",
      "metadata": {
        "id": "view-in-github",
        "colab_type": "text"
      },
      "source": [
        "<a href=\"https://colab.research.google.com/github/2403a52030-sketch/Lab-Assignment-Codes/blob/main/Assignment_11_3.ipynb\" target=\"_parent\"><img src=\"https://colab.research.google.com/assets/colab-badge.svg\" alt=\"Open In Colab\"/></a>"
      ]
    },
    {
      "cell_type": "markdown",
      "source": [
        "**Task-1:** Stack class implementation\n",
        "\n",
        "Task: Ask AI to implement a stack class with push(), pop(), peek() and\n",
        "is_empty() methods"
      ],
      "metadata": {
        "id": "rbe3zD6P4vnt"
      }
    },
    {
      "cell_type": "markdown",
      "source": [
        "**prompt:**\n",
        "\n",
        "generate a python program by implementing a stack class with push(),pop(),peek(),and is_empty() methods"
      ],
      "metadata": {
        "id": "SqN2avia5Szn"
      }
    },
    {
      "cell_type": "code",
      "source": [
        "class Stack:\n",
        "    def __init__(self):\n",
        "        self.items = []\n",
        "\n",
        "    def is_empty(self):\n",
        "        \"\"\"Checks if the stack is empty.\"\"\"\n",
        "        return not self.items\n",
        "\n",
        "    def push(self, item):\n",
        "        \"\"\"Adds an item to the top of the stack.\"\"\"\n",
        "        self.items.append(item)\n",
        "\n",
        "    def pop(self):\n",
        "        \"\"\"Removes and returns the item from the top of the stack.\"\"\"\n",
        "        if not self.is_empty():\n",
        "            return self.items.pop()\n",
        "        else:\n",
        "            return \"Stack is empty\"\n",
        "\n",
        "    def peek(self):\n",
        "        \"\"\"Returns the item at the top of the stack without removing it.\"\"\"\n",
        "        if not self.is_empty():\n",
        "            return self.items[-1]\n",
        "        else:\n",
        "            return \"Stack is empty\"\n",
        "\n",
        "# Example usage:\n",
        "stack = Stack()\n",
        "stack.push(10)\n",
        "stack.push(20)\n",
        "print(stack.peek())  # Output: 20\n",
        "print(stack.pop())   # Output: 20\n",
        "print(stack.pop())   # Output: 10\n",
        "print(stack.is_empty()) # Output: True"
      ],
      "metadata": {
        "id": "JEKt0rCM6f67"
      },
      "execution_count": 1,
      "outputs": []
    },
    {
      "cell_type": "markdown",
      "source": [
        "**Explanation:**\n",
        "\n",
        "**_init__(self):** This is the constructor of the Stack class. It initializes an empty list called self.items. This list will be used to store the elements of the stack.\n",
        "\n",
        "**is_empty(self):** This method checks if the stack is empty. It returns True if the self.items list is empty (meaning the stack has no elements), and False otherwise.\n",
        "\n",
        "**push(self, item):** This method adds an item to the top of the stack. It uses the append() method of the self.items list to add the new item to the end of the list, which represents the top of the stack.\n",
        "\n",
        "**pop(self):** This method removes and returns the item from the top of the stack. It first checks if the stack is not empty using is_empty(). If it's not empty, it uses the pop() method of the self.items list to remove and return the last element (which is at the top of the stack). If the stack is empty, it returns the string \"Stack is empty\".\n",
        "\n",
        "**peek(self):** This method returns the item at the top of the stack without removing it. Similar to pop(), it first checks if the stack is not empty. If it's not empty, it accesses the last element of the self.items list using index [-1] and returns it. If the stack is empty, it returns the string \"Stack is empty\"."
      ],
      "metadata": {
        "id": "VCq8gY3K6sX7"
      }
    },
    {
      "cell_type": "markdown",
      "source": [
        "**Task-2:**  Queue Implementation\n",
        "\n",
        "Use AI to generate a Queue class with enqueue(), dequeue(), and\n",
        "is_empty()\n"
      ],
      "metadata": {
        "id": "AejAZdk87pcd"
      }
    },
    {
      "cell_type": "markdown",
      "source": [
        "**Prompt:**\n",
        "\n",
        "generate a python program of a queue class with enqueue(),dequeue() and is_empty()"
      ],
      "metadata": {
        "id": "mVjhIdhb72CO"
      }
    },
    {
      "cell_type": "code",
      "source": [
        "class Queue:\n",
        "    def __init__(self):\n",
        "        self.items = []\n",
        "\n",
        "    def is_empty(self):\n",
        "        \"\"\"Checks if the queue is empty.\"\"\"\n",
        "        return not self.items\n",
        "\n",
        "    def enqueue(self, item):\n",
        "        \"\"\"Adds an item to the rear of the queue.\"\"\"\n",
        "        self.items.insert(0, item)\n",
        "\n",
        "    def dequeue(self):\n",
        "        \"\"\"Removes and returns the item from the front of the queue.\"\"\"\n",
        "        if not self.is_empty():\n",
        "            return self.items.pop()\n",
        "        else:\n",
        "            return \"Queue is empty\"\n",
        "\n",
        "# Example usage:\n",
        "queue = Queue()\n",
        "queue.enqueue(10)\n",
        "queue.enqueue(20)\n",
        "print(queue.dequeue())  # Output: 10\n",
        "print(queue.dequeue())  # Output: 20\n",
        "print(queue.is_empty()) # Output: True"
      ],
      "metadata": {
        "id": "m7oZn2uv7deW"
      },
      "execution_count": 2,
      "outputs": []
    },
    {
      "cell_type": "markdown",
      "source": [
        "Explaination\n",
        "\n",
        "__init__(self): This is the constructor of the Queue class. It initializes an empty list called self.items. This list will be used to store the elements of the queue.\n",
        "\n",
        "**is_empty(self):** This method checks if the queue is empty. It returns True if the self.items list is empty (meaning the queue has no elements), and False otherwise.\n",
        "\n",
        "enqueue(self, item): **bold text** This method adds an item to the rear of the queue. It uses the insert(0, item) method of the self.items list to add the new item at the beginning of the list. While this works, it's not the most efficient way to implement a queue using a Python list, as inserting at the beginning can be slow for large lists. A more efficient implementation would use the collections.deque class.\n",
        "\n",
        "**dequeue(self):** This method removes and returns the item from the front of the queue. It first checks if the queue is not empty using is_empty(). If it's not empty, it uses the pop() method of the self.items list to remove and return the last element. Because we added elements to the front with enqueue, the last element is actually the front of the queue in this implementation. If the queue is empty, it returns the string \"Queue is empty"
      ],
      "metadata": {
        "id": "4vVX4Gdn8PUW"
      }
    },
    {
      "cell_type": "markdown",
      "source": [
        "**Task-3:**  Linked List Implementation\n",
        "\n",
        "Ask AI to create a singly linked list with insert_at_end(),\n",
        "insert_at_beginning(), and display()"
      ],
      "metadata": {
        "id": "2gMHxYp18hYV"
      }
    },
    {
      "cell_type": "markdown",
      "source": [
        "**Prompt:**\n",
        "\n",
        "generate a python program by creating singly linked list with insert_at_end(), insert_at_beginning(), and display()"
      ],
      "metadata": {
        "id": "4lp8cQy_8tzJ"
      }
    },
    {
      "cell_type": "code",
      "source": [
        "class Node:\n",
        "    def __init__(self, data):\n",
        "        self.data = data\n",
        "        self.next = None\n",
        "\n",
        "class LinkedList:\n",
        "    def __init__(self):\n",
        "        self.head = None\n",
        "\n",
        "    def insert_at_beginning(self, data):\n",
        "        \"\"\"Inserts a new node at the beginning of the linked list.\"\"\"\n",
        "        new_node = Node(data)\n",
        "        new_node.next = self.head\n",
        "        self.head = new_node\n",
        "\n",
        "    def insert_at_end(self, data):\n",
        "        \"\"\"Inserts a new node at the end of the linked list.\"\"\"\n",
        "        new_node = Node(data)\n",
        "        if self.head is None:\n",
        "            self.head = new_node\n",
        "            return\n",
        "        last_node = self.head\n",
        "        while last_node.next:\n",
        "            last_node = last_node.next\n",
        "        last_node.next = new_node\n",
        "\n",
        "    def display(self):\n",
        "        \"\"\"Displays the elements of the linked list.\"\"\"\n",
        "        current = self.head\n",
        "        while current:\n",
        "            print(current.data, end=\" -> \")\n",
        "            current = current.next\n",
        "        print(\"None\")\n",
        "\n",
        "# Example usage:\n",
        "ll = LinkedList()\n",
        "ll.insert_at_beginning(10)\n",
        "ll.insert_at_end(20)\n",
        "ll.insert_at_beginning(5)\n",
        "ll.display() # Output: 5 -> 10 -> 20 -> None"
      ],
      "metadata": {
        "id": "WPgZ9H6L81qF"
      },
      "execution_count": 3,
      "outputs": []
    },
    {
      "cell_type": "markdown",
      "source": [
        "**Explaination:**\n",
        "\n",
        "**Node class:** This class represents an individual element (a node) in the linked list.\n",
        "\n",
        "**__init__(self, data):** The constructor initializes a node with data and a next attribute set to None. The next attribute will point to the next node in the list.\n",
        "\n",
        "**LinkedList class:** This class represents the linked list itself.\n",
        "\n",
        "**__init__(self):** The constructor initializes the linked list with a head attribute set to None, indicating an empty list.\n",
        "\n",
        "**insert_at_beginning(self, data):** This method adds a new node with the given data at the beginning of the list. It creates a new node, sets its next to the current head, and then updates the head to point to the new node.\n",
        "\n",
        "**insert_at_end(self, data):** This method adds a new node with the given data at the end of the list. If the list is empty, the new node becomes the head. Otherwise, it traverses the list to find the last node and sets its next to the new node.\n",
        "\n",
        "**display(self):** This method traverses the linked list from the head and prints the data of each node, followed by \" -> \", until it reaches the end (where the next is None). It then prints \"None\" to indicate the end of the list."
      ],
      "metadata": {
        "id": "incXfw6O-myR"
      }
    },
    {
      "cell_type": "markdown",
      "source": [
        "**Task-4:**  Binary Search Tree (BST)\n",
        "\n",
        "Ask AI to generate a simple BST with insert() and\n",
        "inorder_traversal()"
      ],
      "metadata": {
        "id": "6os2oOpB9M3U"
      }
    },
    {
      "cell_type": "markdown",
      "source": [
        "**Prompt:**\n",
        "generate a python program with simple BST with insert() and inorder_traversal()."
      ],
      "metadata": {
        "id": "sirEmw1Q9XaV"
      }
    },
    {
      "cell_type": "code",
      "source": [
        "class Node:\n",
        "    def __init__(self, key):\n",
        "        self.left = None\n",
        "        self.right = None\n",
        "        self.val = key\n",
        "\n",
        "class BST:\n",
        "    def __init__(self):\n",
        "        self.root = None\n",
        "\n",
        "    def insert(self, key):\n",
        "        \"\"\"Inserts a new node with the given key into the BST.\"\"\"\n",
        "        if self.root is None:\n",
        "            self.root = Node(key)\n",
        "        else:\n",
        "            self._insert(self.root, key)\n",
        "\n",
        "    def _insert(self, root, key):\n",
        "        if key < root.val:\n",
        "            if root.left is None:\n",
        "                root.left = Node(key)\n",
        "            else:\n",
        "                self._insert(root.left, key)\n",
        "        else:\n",
        "            if root.right is None:\n",
        "                root.right = Node(key)\n",
        "            else:\n",
        "                self._insert(root.right, key)\n",
        "\n",
        "    def inorder_traversal(self):\n",
        "        \"\"\"Performs an in-order traversal of the BST and prints the nodes.\"\"\"\n",
        "        result = []\n",
        "        self._inorder_traversal(self.root, result)\n",
        "        print(\"In-order traversal:\", result)\n",
        "\n",
        "    def _inorder_traversal(self, root, result):\n",
        "        if root:\n",
        "            self._inorder_traversal(root.left, result)\n",
        "            result.append(root.val)\n",
        "            self._inorder_traversal(root.right, result)\n",
        "\n",
        "# Example usage:\n",
        "bst = BST()\n",
        "bst.insert(50)\n",
        "bst.insert(30)\n",
        "bst.insert(20)\n",
        "bst.insert(40)\n",
        "bst.insert(70)\n",
        "bst.insert(60)\n",
        "bst.insert(80)\n",
        "bst.inorder_traversal() # Output: In-order traversal: [20, 30, 40, 50, 60, 70, 80]"
      ],
      "metadata": {
        "id": "U5ZewWZq9fu5"
      },
      "execution_count": 4,
      "outputs": []
    },
    {
      "cell_type": "markdown",
      "source": [
        "**Explaination:**\n",
        "\n",
        "**Node class:** This class represents a node in the BST. Each node has\n",
        "\n",
        "three **attributes:**\n",
        "\n",
        "**left:** A reference to the left child node.\n",
        "\n",
        "**right:** A reference to the right child node.\n",
        "\n",
        "**val:** The key or value stored in the node.\n",
        "\n",
        "**BST class:** This class represents the Binary Search Tree itself.\n",
        "\n",
        "**__init__(self):** The constructor initializes the root of the tree to None, indicating an empty tree.\n",
        "\n",
        "insert(self, key): **bold text** This method is the public interface for inserting a new node with the given key into the BST. It checks if the tree is empty; if so, the new node becomes the root. Otherwise, it calls the private helper method _insert.\n",
        "\n",
        "**_insert(self, root, key):** This is a recursive helper method that finds the correct position to insert the new node. It compares the key with the current root's value and recursively calls itself on the left or right subtree until it finds an empty spot.\n",
        "\n",
        "**inorder_traversal(self):** This method is the public interface for performing an in-order traversal of the BST. An in-order traversal visits the left subtree, then the current node, and then the right subtree, resulting in the nodes being visited in ascending order of their keys. It calls the private helper method _inorder_traversal.\n",
        "\n",
        "**_inorder_traversal(self, root, result):** This is a recursive helper method that performs the in-order traversal. It appends the node's value to the result list when visiting the node."
      ],
      "metadata": {
        "id": "F6oBb3gS9166"
      }
    }
  ]
}