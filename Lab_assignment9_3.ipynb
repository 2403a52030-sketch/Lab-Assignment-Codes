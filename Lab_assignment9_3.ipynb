{
  "nbformat": 4,
  "nbformat_minor": 0,
  "metadata": {
    "colab": {
      "provenance": [],
      "authorship_tag": "ABX9TyP7dldXAVHc61521eT6PhW1",
      "include_colab_link": true
    },
    "kernelspec": {
      "name": "python3",
      "display_name": "Python 3"
    },
    "language_info": {
      "name": "python"
    }
  },
  "cells": [
    {
      "cell_type": "markdown",
      "metadata": {
        "id": "view-in-github",
        "colab_type": "text"
      },
      "source": [
        "<a href=\"https://colab.research.google.com/github/2403a52030-sketch/Lab-Assignment-Codes/blob/main/Lab_assignment9_3.ipynb\" target=\"_parent\"><img src=\"https://colab.research.google.com/assets/colab-badge.svg\" alt=\"Open In Colab\"/></a>"
      ]
    },
    {
      "cell_type": "markdown",
      "source": [
        "**Task-1:**\n",
        "\n",
        "• Write python function to return sum of even and odd numbers in the given list.\n",
        "\n",
        "• Incorporate manual docstring in code with Google Style\n",
        "\n",
        "• Use an AI-assisted tool (e.g., Copilot, Cursor AI) to generate a docstring describing the function.\n",
        "\n",
        "• Compare the AI-generated docstring with your manually written one"
      ],
      "metadata": {
        "id": "PwpZVDzUzAJt"
      }
    },
    {
      "cell_type": "markdown",
      "source": [
        "**prompt:** Write a Python function `sum_even_odd(numbers)` that takes a list of integers\n",
        "   and returns a tuple containing"
      ],
      "metadata": {
        "id": "XXit5oklzeIB"
      }
    },
    {
      "cell_type": "code",
      "metadata": {
        "colab": {
          "base_uri": "https://localhost:8080/"
        },
        "id": "93c82da8",
        "outputId": "1fbfad7e-dda9-4bed-eecb-ad3adff8d697"
      },
      "source": [
        "def sum_even_odd(numbers):\n",
        "  \"\"\"Calculates the sum of even and odd numbers in a list.\n",
        "\n",
        "  Args:\n",
        "    numbers: A list of integers.\n",
        "\n",
        "  Returns:\n",
        "    A tuple containing two integers: the sum of even numbers and the sum of odd numbers.\n",
        "  \"\"\"\n",
        "  even_sum = 0\n",
        "  odd_sum = 0\n",
        "  for number in numbers:\n",
        "    if number % 2 == 0:\n",
        "      even_sum += number\n",
        "    else:\n",
        "      odd_sum += number\n",
        "  return (even_sum, odd_sum)\n",
        "\n",
        "# Example usage:\n",
        "my_list = [1, 2, 3, 4, 5, 6]\n",
        "even_total, odd_total = sum_even_odd(my_list)\n",
        "print(f\"Sum of even numbers: {even_total}\")\n",
        "print(f\"Sum of odd numbers: {odd_total}\")"
      ],
      "execution_count": 1,
      "outputs": [
        {
          "output_type": "stream",
          "name": "stdout",
          "text": [
            "Sum of even numbers: 12\n",
            "Sum of odd numbers: 9\n"
          ]
        }
      ]
    },
    {
      "cell_type": "code",
      "source": [
        "#manual\n",
        "def sum_even_odd(numbers):\n",
        "    \"\"\"Return sums of even and odd numbers in a list.\n",
        "\n",
        "    Goes through each number, adds evens to one total and odds to another,\n",
        "    then returns both.\n",
        "    \"\"\"\n",
        "    even_sum = 0\n",
        "    odd_sum = 0\n",
        "    for number in numbers:\n",
        "        if number % 2 == 0:\n",
        "            even_sum += number\n",
        "        else:\n",
        "            odd_sum += number\n",
        "    return (even_sum, odd_sum)\n",
        "\n",
        "\n",
        "# Example usage:\n",
        "my_list = [1, 2, 3, 4, 5, 6]\n",
        "even_total, odd_total = sum_even_odd(my_list)\n",
        "print(f\"Sum of even numbers: {even_total}\")\n",
        "print(f\"Sum of odd numbers: {odd_total}\")\n"
      ],
      "metadata": {
        "id": "z6nEUqatBVZX",
        "outputId": "f656c0ca-3e3f-4c55-af04-4c88a993c3f0",
        "colab": {
          "base_uri": "https://localhost:8080/"
        }
      },
      "execution_count": 16,
      "outputs": [
        {
          "output_type": "stream",
          "name": "stdout",
          "text": [
            "Sum of even numbers: 12\n",
            "Sum of odd numbers: 9\n"
          ]
        }
      ]
    },
    {
      "cell_type": "markdown",
      "source": [
        "**Comparision:** The AI-generated docstring is neat, easy to understand, and follows proper format, while the manual one is unorganized and harder to read."
      ],
      "metadata": {
        "id": "idy_FVs01wAN"
      }
    },
    {
      "cell_type": "markdown",
      "source": [
        "Observation :\n",
        "\n",
        "Manual docstrings allow more control over description, context, and clarity.\n",
        "\n",
        "AI-generated docstrings are often concise and syntactically correct but may miss some specifics unless the code is very clear.\n",
        "\n",
        "The comparison helped identify AI’s strength in quick generation and its limitations in deeper code understanding.\n",
        "\n",
        "This task enhanced my understanding of standard documentation styles and showed how AI can assist but still requires human review."
      ],
      "metadata": {
        "id": "PcifGb6a8p2l"
      }
    },
    {
      "cell_type": "markdown",
      "source": [
        "**Task-2:**\n",
        "\n",
        "• Write python program for sru_student class with attributes like name, roll no.,hostel_status and fee_update method and display_details method.\n",
        "\n",
        "• Write comments manually for each line/code block\n",
        "\n",
        "• Ask an AI tool to add inline comments explaining each line/step.\n",
        "\n",
        "• Compare the AI-generated comments with your manually written one"
      ],
      "metadata": {
        "id": "sqJULvaB31XM"
      }
    },
    {
      "cell_type": "markdown",
      "source": [
        "**Prompt 1:** Generate python program for sru_student class with attributes like name, roll no., hostel_status and fee_update method and display_details method.\n",
        "dont include comments in this code"
      ],
      "metadata": {
        "id": "apIaxgQe4FKi"
      }
    },
    {
      "cell_type": "code",
      "source": [
        "class sru_student:\n",
        "    def __init__(self, name, roll_no, hostel_status):\n",
        "        self.name = name\n",
        "        self.roll_no = roll_no\n",
        "        self.hostel_status = hostel_status\n",
        "        self.fee_paid = 0\n",
        "\n",
        "    def fee_update(self, amount):\n",
        "        self.fee_paid += amount\n",
        "        print(f\"Fee updated for {self.name}. Total fee paid: {self.fee_paid}\")\n",
        "\n",
        "    def display_details(self):\n",
        "        print(\"\\nStudent Details:\")\n",
        "        print(f\"Name: {self.name}\")\n",
        "        print(f\"Roll Number: {self.roll_no}\")\n",
        "        print(f\"Hostel Status: {self.hostel_status}\")\n",
        "        print(f\"Fee Paid: {self.fee_paid}\")\n",
        "\n",
        "# Example Usage:\n",
        "student1 = sru_student(\"Alice\", \"SRU123\", \"Resident\")\n",
        "student1.display_details()\n",
        "student1.fee_update(5000)\n",
        "student1.display_details()"
      ],
      "metadata": {
        "colab": {
          "base_uri": "https://localhost:8080/"
        },
        "id": "7YxK6JK8500c",
        "outputId": "78aa5cb3-41b8-44f3-c875-3a5f8296d6d5"
      },
      "execution_count": 10,
      "outputs": [
        {
          "output_type": "stream",
          "name": "stdout",
          "text": [
            "\n",
            "Student Details:\n",
            "Name: Alice\n",
            "Roll Number: SRU123\n",
            "Hostel Status: Resident\n",
            "Fee Paid: 0\n",
            "Fee updated for Alice. Total fee paid: 5000\n",
            "\n",
            "Student Details:\n",
            "Name: Alice\n",
            "Roll Number: SRU123\n",
            "Hostel Status: Resident\n",
            "Fee Paid: 5000\n"
          ]
        }
      ]
    },
    {
      "cell_type": "markdown",
      "source": [
        "**prompt 2:** Generate python program for sru_student class with attributes like name, roll no., hostel_status and fee_update method and display_details method. give comments"
      ],
      "metadata": {
        "id": "PwsMjwNr7slm"
      }
    },
    {
      "cell_type": "code",
      "source": [
        "class sru_student:\n",
        "    # Constructor to initialize the student object with name, roll number, and hostel status\n",
        "    def __init__(self, name, roll_no, hostel_status):\n",
        "        self.name = name  # Assign the provided name to the student object\n",
        "        self.roll_no = roll_no  # Assign the provided roll number\n",
        "        self.hostel_status = hostel_status  # Assign the provided hostel status\n",
        "        self.fee_paid = 0  # Initialize fee paid to 0\n",
        "\n",
        "    # Method to update the fee paid by the student\n",
        "    def fee_update(self, amount):\n",
        "        self.fee_paid += amount  # Add the given amount to the fee_paid attribute\n",
        "        print(f\"Fee updated for {self.name}. Total fee paid: {self.fee_paid}\") # Print a confirmation message\n",
        "\n",
        "    # Method to display the details of the student\n",
        "    def display_details(self):\n",
        "        print(\"\\nStudent Details:\") # Print a header for the details\n",
        "        print(f\"Name: {self.name}\") # Print the student's name\n",
        "        print(f\"Roll Number: {self.roll_no}\") # Print the student's roll number\n",
        "        print(f\"Hostel Status: {self.hostel_status}\") # Print the student's hostel status\n",
        "        print(f\"Fee Paid: {self.fee_paid}\") # Print the total fee paid\n",
        "\n",
        "# Example Usage:\n",
        "student1 = sru_student(\"Alice\", \"SRU123\", \"Resident\")\n",
        "student1.display_details()\n",
        "student1.fee_update(5000)\n",
        "student1.display_details()"
      ],
      "metadata": {
        "colab": {
          "base_uri": "https://localhost:8080/"
        },
        "id": "Qo2PGCaP71oj",
        "outputId": "84b5c218-1dd9-4bc1-942b-9d12284c9a28"
      },
      "execution_count": 12,
      "outputs": [
        {
          "output_type": "stream",
          "name": "stdout",
          "text": [
            "\n",
            "Student Details:\n",
            "Name: Alice\n",
            "Roll Number: SRU123\n",
            "Hostel Status: Resident\n",
            "Fee Paid: 0\n",
            "Fee updated for Alice. Total fee paid: 5000\n",
            "\n",
            "Student Details:\n",
            "Name: Alice\n",
            "Roll Number: SRU123\n",
            "Hostel Status: Resident\n",
            "Fee Paid: 5000\n"
          ]
        }
      ]
    },
    {
      "cell_type": "markdown",
      "source": [
        "**Comparision:**\n",
        "\n",
        " Manual comments are more specific and explain both what and why.\n",
        "\n",
        "AI comments explain what the code does, but may be too generic or repetitive.\n",
        "\n",
        "Manual comments are better for understanding logic, while AI helps with quick summaries."
      ],
      "metadata": {
        "id": "dpz8Ensb9gQF"
      }
    },
    {
      "cell_type": "markdown",
      "source": [
        "**Explanation:**\n",
        "\n",
        "You define a sru_student class with attributes and methods.\n",
        "You write manual inline comments for each line, and then use AI to generate automatic inline comments.\n",
        "You compare both to understand how well AI explains the code logic."
      ],
      "metadata": {
        "id": "QpGlsfdL9DEC"
      }
    },
    {
      "cell_type": "markdown",
      "source": [
        "Observation:\n",
        "\n",
        "Manually written comments were specific and tailored to the logic and intent of the code.\n",
        "\n",
        "AI-generated inline comments were mostly accurate and explained basic syntax and purpose clearly.\n",
        "\n",
        "However, AI sometimes added redundant or too generic comments.\n",
        "\n",
        "This task helped me evaluate the clarity of my own comments and understand where AI assistance is helpful for beginners or repetitive tasks."
      ],
      "metadata": {
        "id": "74cC2sxO9U3C"
      }
    },
    {
      "cell_type": "markdown",
      "source": [
        "**Task-3:**\n",
        "\n",
        "• Write a Python script with 3–4 functions (e.g., calculator: add, subtract, multiply,divide).\n",
        "• Incorporate manual docstring in code with NumPy Style\n",
        "\n",
        "• Use AI assistance to generate a module-level docstring + individual function\n",
        "docstrings.\n",
        "\n",
        "• Compare the AI-generated docstring with your manually written one"
      ],
      "metadata": {
        "id": "X8XMi2mq9Wvc"
      }
    },
    {
      "cell_type": "markdown",
      "source": [
        "**Prompt:**\n",
        "\n",
        "generate a python program with 4 functions EX:add,subtract,multiply,divide and provide  a module-level docstring +individual function docstrings"
      ],
      "metadata": {
        "id": "n0Anz_uP96E-"
      }
    },
    {
      "cell_type": "code",
      "source": [
        "\"\"\"\n",
        "This module provides basic arithmetic operations.\n",
        "\n",
        "It contains functions for addition, subtraction, multiplication, and division.\n",
        "\"\"\"\n",
        "\n",
        "def add(a, b):\n",
        "    \"\"\"\n",
        "    Adds two numbers.\n",
        "\n",
        "    Parameters\n",
        "    ----------\n",
        "    a : int or float\n",
        "        The first number.\n",
        "    b : int or float\n",
        "        The second number.\n",
        "\n",
        "    Returns\n",
        "    -------\n",
        "    int or float\n",
        "        The sum of a and b.\n",
        "    \"\"\"\n",
        "    return a + b\n",
        "\n",
        "def subtract(a, b):\n",
        "    \"\"\"\n",
        "    Subtracts the second number from the first.\n",
        "\n",
        "    Parameters\n",
        "    ----------\n",
        "    a : int or float\n",
        "        The first number.\n",
        "    b : int or float\n",
        "        The second number.\n",
        "\n",
        "    Returns\n",
        "    -------\n",
        "    int or float\n",
        "        The difference between a and b.\n",
        "    \"\"\"\n",
        "    return a - b\n",
        "\n",
        "def multiply(a, b):\n",
        "    \"\"\"\n",
        "     multiplies two numbers.\n",
        "\n",
        "    Parameters\n",
        "    ----------\n",
        "    a : int or float\n",
        "        The first number.\n",
        "    b : int or float\n",
        "        The second number.\n",
        "\n",
        "    Returns\n",
        "    -------\n",
        "    int or float\n",
        "        The product of a and b.\n",
        "    \"\"\"\n",
        "    return a * b\n",
        "\n",
        "def divide(a, b):\n",
        "    \"\"\"\n",
        "    Divides the first number by the second.\n",
        "\n",
        "    Parameters\n",
        "    ----------\n",
        "    a : int or float\n",
        "        The numerator.\n",
        "    b : int or float\n",
        "        The denominator.\n",
        "\n",
        "    Returns\n",
        "    -------\n",
        "    float\n",
        "        The result of the division.\n",
        "\n",
        "    Raises\n",
        "    ------\n",
        "    ZeroDivisionError\n",
        "        If the denominator is zero.\n",
        "    \"\"\"\n",
        "    if b == 0:\n",
        "        raise ZeroDivisionError(\"Division by zero is not allowed\")\n",
        "    return a / b\n",
        "\n",
        "# Example Usage:\n",
        "print(f\"Addition: {add(10, 5)}\")\n",
        "print(f\"Subtraction: {subtract(10, 5)}\")\n",
        "print(f\"Multiply: {multiply(10, 5)}\")\n",
        "print(f\"Divide: {divide(10, 5)}\")"
      ],
      "metadata": {
        "colab": {
          "base_uri": "https://localhost:8080/"
        },
        "id": "1gsPw-J7-cfO",
        "outputId": "245e3f5b-6d98-451c-bc41-4dc12ac52c2e"
      },
      "execution_count": 15,
      "outputs": [
        {
          "output_type": "stream",
          "name": "stdout",
          "text": [
            "Addition: 15\n",
            "Subtraction: 5\n",
            "Multiply: 50\n",
            "Divide: 2.0\n"
          ]
        }
      ]
    },
    {
      "cell_type": "markdown",
      "source": [
        "**Explanation:**\n",
        "\n",
        "This code defines a Python module with four basic arithmetic functions: add, subtract, multiply, and divide.\n",
        "\n",
        "The code starts with a module-level docstring that briefly describes the purpose of the module.\n",
        "\n",
        "Each function has its own docstring following the NumPy style, explaining what the function does, its parameters (a and b), their types and descriptions, and what the function returns.\n",
        "\n",
        "The add function takes two numbers (a and b) and returns their sum.\n",
        "\n",
        "The subtract function takes two numbers (a and b) and returns the difference between a and b.\n",
        "\n",
        "The multiply function takes two numbers (a and b) and returns their product.\n",
        "\n",
        "The divide function takes two numbers (a and b) and returns the result of dividing a by b. It also includes error handling to raise a ZeroDivisionError if the denominator b is zero.\n",
        "\n",
        "Finally, there is an example usage section that demonstrates how to call each function with specific values and prints the results"
      ],
      "metadata": {
        "id": "z8o0ZYby--iu"
      }
    },
    {
      "cell_type": "markdown",
      "source": [
        "**Observation:**\n",
        "\n",
        "The uses of NumPy-style docstrings provides clear and structured documentation for each function, making the code easier to understand and use. The example usage effectively demonstrates the functionality and the inclusion of error handling makes the divide function robust. This structure is good practice for creating reusable and well-documented code."
      ],
      "metadata": {
        "id": "Z18eW7Ts_WsD"
      }
    }
  ]
}